{
  "nbformat": 4,
  "nbformat_minor": 0,
  "metadata": {
    "colab": {
      "provenance": []
    },
    "kernelspec": {
      "name": "python3",
      "display_name": "Python 3"
    },
    "language_info": {
      "name": "python"
    }
  },
  "cells": [
    {
      "cell_type": "markdown",
      "source": [
        "**KELOMPOK 8**\n",
        "- Murni Lestari Rahmi (2106035)\n",
        "- M. Zilhan Salman Ramadhan (2106018)"
      ],
      "metadata": {
        "id": "xahJTOtW2RW9"
      }
    },
    {
      "cell_type": "markdown",
      "source": [
        "**Advertising and Sales**.\n",
        "Data contains:\n",
        "- TV promotion budget (in million)\n",
        "- Radio promotion budget (in million)\n",
        "- Social Media promotion budget (in million)\n",
        "- Influencer: Whether the promotion collaborate with Mega, Macro, Nano, Micro influencer\n",
        "- Sales (in million)\n",
        "\n",
        ">\n",
        "**Hipotesis:** \"Iklan mempengaruhi Penjualan\"\n",
        "\n",
        ">\n",
        "**Pertanyaan:**\n",
        "- Iklan apa yg paling besar mempengaruhi penjualan?\n",
        "- Berapa prediksi penjualan jika budget iklan TV=230, Radio=37, Social Media=69 ?\n",
        "- Berapa prediksi penjualan jika budget iklan TV=23, Radio=37, Social Media=69 ?"
      ],
      "metadata": {
        "id": "25Lmjp9Sxd8l"
      }
    },
    {
      "cell_type": "markdown",
      "source": [
        ">\n",
        "**TAHAPAN MACHINE LEARNING:**"
      ],
      "metadata": {
        "id": "7tTEyILU_s65"
      }
    },
    {
      "cell_type": "markdown",
      "source": [
        "**1. Pengumpulan Data**\n",
        ">\n",
        "Mengambil dataset mentah di situs kaggle.com:\n",
        "https://www.kaggle.com/datasets/harrimansaragih/dummy-advertising-and-sales-data\n",
        "\n",
        "Dataset tersebut dirapikan dan dipilah kembali. Berikut link dataset yang telah diolah: https://github.com/murnilestarirahmi/UAS-Kecerdasan-Buatan-Kelompok-8/blob/main/Advertising%20and%20Sales.csv"
      ],
      "metadata": {
        "id": "qc99BWF7_B0W"
      }
    },
    {
      "cell_type": "markdown",
      "source": [
        "**2. Persiapan Data**"
      ],
      "metadata": {
        "id": "o5MisyPJ_OvK"
      }
    },
    {
      "cell_type": "code",
      "execution_count": 1,
      "metadata": {
        "id": "cM0SvPwhKufn"
      },
      "outputs": [],
      "source": [
        "# Load library\n",
        "import pandas as pd\n",
        "import numpy as np\n",
        "import matplotlib.pyplot as plt\n",
        "from sklearn.linear_model import LinearRegression\n",
        "from sklearn.model_selection import train_test_split"
      ]
    },
    {
      "cell_type": "code",
      "source": [
        "# Nama data frame adalah df yang berisi data dari Advertising and Sales.csv\n",
        "df = pd.read_csv('Advertising and Sales.csv')"
      ],
      "metadata": {
        "id": "oYIphxdKLNF7"
      },
      "execution_count": 2,
      "outputs": []
    },
    {
      "cell_type": "code",
      "source": [
        "# Melihat 10 baris teratas dari data\n",
        "# Independent variable(x) adalah Sales\n",
        "# Depent variables(y) adalah TV, Radio dan Social Media\n",
        "df.head(10)"
      ],
      "metadata": {
        "colab": {
          "base_uri": "https://localhost:8080/",
          "height": 363
        },
        "id": "WmKb3ivHLlpq",
        "outputId": "d93356a6-fa16-482a-b7d2-855ddd509bfa"
      },
      "execution_count": 3,
      "outputs": [
        {
          "output_type": "execute_result",
          "data": {
            "text/plain": [
              "     TV      Radio  Social Media Influencer       Sales\n",
              "0  16.0   6.566231      2.907983       Mega   54.732757\n",
              "1   NaN   9.237765      2.409567       Mega   46.677897\n",
              "2  41.0  15.886446      2.913410       Mega  150.177829\n",
              "3  83.0  30.020028      6.922304       Mega  298.246340\n",
              "4  15.0   8.437408      1.405998      Micro   56.594181\n",
              "5  29.0   9.614382      1.027163       Mega  105.889148\n",
              "6  55.0  24.893811      4.273602      Micro  198.679825\n",
              "7  31.0  17.355042      2.289855       Nano  108.733932\n",
              "8  76.0  24.648898      7.130116      Macro  270.189400\n",
              "9  13.0   0.431128      2.229423       Mega   48.280582"
            ],
            "text/html": [
              "\n",
              "  <div id=\"df-1258de55-544a-4dfd-b165-b6abf91abd1e\">\n",
              "    <div class=\"colab-df-container\">\n",
              "      <div>\n",
              "<style scoped>\n",
              "    .dataframe tbody tr th:only-of-type {\n",
              "        vertical-align: middle;\n",
              "    }\n",
              "\n",
              "    .dataframe tbody tr th {\n",
              "        vertical-align: top;\n",
              "    }\n",
              "\n",
              "    .dataframe thead th {\n",
              "        text-align: right;\n",
              "    }\n",
              "</style>\n",
              "<table border=\"1\" class=\"dataframe\">\n",
              "  <thead>\n",
              "    <tr style=\"text-align: right;\">\n",
              "      <th></th>\n",
              "      <th>TV</th>\n",
              "      <th>Radio</th>\n",
              "      <th>Social Media</th>\n",
              "      <th>Influencer</th>\n",
              "      <th>Sales</th>\n",
              "    </tr>\n",
              "  </thead>\n",
              "  <tbody>\n",
              "    <tr>\n",
              "      <th>0</th>\n",
              "      <td>16.0</td>\n",
              "      <td>6.566231</td>\n",
              "      <td>2.907983</td>\n",
              "      <td>Mega</td>\n",
              "      <td>54.732757</td>\n",
              "    </tr>\n",
              "    <tr>\n",
              "      <th>1</th>\n",
              "      <td>NaN</td>\n",
              "      <td>9.237765</td>\n",
              "      <td>2.409567</td>\n",
              "      <td>Mega</td>\n",
              "      <td>46.677897</td>\n",
              "    </tr>\n",
              "    <tr>\n",
              "      <th>2</th>\n",
              "      <td>41.0</td>\n",
              "      <td>15.886446</td>\n",
              "      <td>2.913410</td>\n",
              "      <td>Mega</td>\n",
              "      <td>150.177829</td>\n",
              "    </tr>\n",
              "    <tr>\n",
              "      <th>3</th>\n",
              "      <td>83.0</td>\n",
              "      <td>30.020028</td>\n",
              "      <td>6.922304</td>\n",
              "      <td>Mega</td>\n",
              "      <td>298.246340</td>\n",
              "    </tr>\n",
              "    <tr>\n",
              "      <th>4</th>\n",
              "      <td>15.0</td>\n",
              "      <td>8.437408</td>\n",
              "      <td>1.405998</td>\n",
              "      <td>Micro</td>\n",
              "      <td>56.594181</td>\n",
              "    </tr>\n",
              "    <tr>\n",
              "      <th>5</th>\n",
              "      <td>29.0</td>\n",
              "      <td>9.614382</td>\n",
              "      <td>1.027163</td>\n",
              "      <td>Mega</td>\n",
              "      <td>105.889148</td>\n",
              "    </tr>\n",
              "    <tr>\n",
              "      <th>6</th>\n",
              "      <td>55.0</td>\n",
              "      <td>24.893811</td>\n",
              "      <td>4.273602</td>\n",
              "      <td>Micro</td>\n",
              "      <td>198.679825</td>\n",
              "    </tr>\n",
              "    <tr>\n",
              "      <th>7</th>\n",
              "      <td>31.0</td>\n",
              "      <td>17.355042</td>\n",
              "      <td>2.289855</td>\n",
              "      <td>Nano</td>\n",
              "      <td>108.733932</td>\n",
              "    </tr>\n",
              "    <tr>\n",
              "      <th>8</th>\n",
              "      <td>76.0</td>\n",
              "      <td>24.648898</td>\n",
              "      <td>7.130116</td>\n",
              "      <td>Macro</td>\n",
              "      <td>270.189400</td>\n",
              "    </tr>\n",
              "    <tr>\n",
              "      <th>9</th>\n",
              "      <td>13.0</td>\n",
              "      <td>0.431128</td>\n",
              "      <td>2.229423</td>\n",
              "      <td>Mega</td>\n",
              "      <td>48.280582</td>\n",
              "    </tr>\n",
              "  </tbody>\n",
              "</table>\n",
              "</div>\n",
              "      <button class=\"colab-df-convert\" onclick=\"convertToInteractive('df-1258de55-544a-4dfd-b165-b6abf91abd1e')\"\n",
              "              title=\"Convert this dataframe to an interactive table.\"\n",
              "              style=\"display:none;\">\n",
              "        \n",
              "  <svg xmlns=\"http://www.w3.org/2000/svg\" height=\"24px\"viewBox=\"0 0 24 24\"\n",
              "       width=\"24px\">\n",
              "    <path d=\"M0 0h24v24H0V0z\" fill=\"none\"/>\n",
              "    <path d=\"M18.56 5.44l.94 2.06.94-2.06 2.06-.94-2.06-.94-.94-2.06-.94 2.06-2.06.94zm-11 1L8.5 8.5l.94-2.06 2.06-.94-2.06-.94L8.5 2.5l-.94 2.06-2.06.94zm10 10l.94 2.06.94-2.06 2.06-.94-2.06-.94-.94-2.06-.94 2.06-2.06.94z\"/><path d=\"M17.41 7.96l-1.37-1.37c-.4-.4-.92-.59-1.43-.59-.52 0-1.04.2-1.43.59L10.3 9.45l-7.72 7.72c-.78.78-.78 2.05 0 2.83L4 21.41c.39.39.9.59 1.41.59.51 0 1.02-.2 1.41-.59l7.78-7.78 2.81-2.81c.8-.78.8-2.07 0-2.86zM5.41 20L4 18.59l7.72-7.72 1.47 1.35L5.41 20z\"/>\n",
              "  </svg>\n",
              "      </button>\n",
              "      \n",
              "  <style>\n",
              "    .colab-df-container {\n",
              "      display:flex;\n",
              "      flex-wrap:wrap;\n",
              "      gap: 12px;\n",
              "    }\n",
              "\n",
              "    .colab-df-convert {\n",
              "      background-color: #E8F0FE;\n",
              "      border: none;\n",
              "      border-radius: 50%;\n",
              "      cursor: pointer;\n",
              "      display: none;\n",
              "      fill: #1967D2;\n",
              "      height: 32px;\n",
              "      padding: 0 0 0 0;\n",
              "      width: 32px;\n",
              "    }\n",
              "\n",
              "    .colab-df-convert:hover {\n",
              "      background-color: #E2EBFA;\n",
              "      box-shadow: 0px 1px 2px rgba(60, 64, 67, 0.3), 0px 1px 3px 1px rgba(60, 64, 67, 0.15);\n",
              "      fill: #174EA6;\n",
              "    }\n",
              "\n",
              "    [theme=dark] .colab-df-convert {\n",
              "      background-color: #3B4455;\n",
              "      fill: #D2E3FC;\n",
              "    }\n",
              "\n",
              "    [theme=dark] .colab-df-convert:hover {\n",
              "      background-color: #434B5C;\n",
              "      box-shadow: 0px 1px 3px 1px rgba(0, 0, 0, 0.15);\n",
              "      filter: drop-shadow(0px 1px 2px rgba(0, 0, 0, 0.3));\n",
              "      fill: #FFFFFF;\n",
              "    }\n",
              "  </style>\n",
              "\n",
              "      <script>\n",
              "        const buttonEl =\n",
              "          document.querySelector('#df-1258de55-544a-4dfd-b165-b6abf91abd1e button.colab-df-convert');\n",
              "        buttonEl.style.display =\n",
              "          google.colab.kernel.accessAllowed ? 'block' : 'none';\n",
              "\n",
              "        async function convertToInteractive(key) {\n",
              "          const element = document.querySelector('#df-1258de55-544a-4dfd-b165-b6abf91abd1e');\n",
              "          const dataTable =\n",
              "            await google.colab.kernel.invokeFunction('convertToInteractive',\n",
              "                                                     [key], {});\n",
              "          if (!dataTable) return;\n",
              "\n",
              "          const docLinkHtml = 'Like what you see? Visit the ' +\n",
              "            '<a target=\"_blank\" href=https://colab.research.google.com/notebooks/data_table.ipynb>data table notebook</a>'\n",
              "            + ' to learn more about interactive tables.';\n",
              "          element.innerHTML = '';\n",
              "          dataTable['output_type'] = 'display_data';\n",
              "          await google.colab.output.renderOutput(dataTable, element);\n",
              "          const docLink = document.createElement('div');\n",
              "          docLink.innerHTML = docLinkHtml;\n",
              "          element.appendChild(docLink);\n",
              "        }\n",
              "      </script>\n",
              "    </div>\n",
              "  </div>\n",
              "  "
            ]
          },
          "metadata": {},
          "execution_count": 3
        }
      ]
    },
    {
      "cell_type": "code",
      "source": [
        "# Kolom Influencer hanya memuat kategori influencer\n",
        "# Jadi kita menggunakan kolom TV, Radio, Social Media dan Sales saja\n",
        "df = pd.read_csv('Advertising and Sales.csv', usecols=['TV', 'Radio', 'Social Media', 'Sales'])\n",
        "df.head()"
      ],
      "metadata": {
        "colab": {
          "base_uri": "https://localhost:8080/",
          "height": 206
        },
        "id": "ZNYQUSohVe4d",
        "outputId": "ecf859d3-7c4c-4884-85d5-cc5337c56500"
      },
      "execution_count": 4,
      "outputs": [
        {
          "output_type": "execute_result",
          "data": {
            "text/plain": [
              "     TV      Radio  Social Media       Sales\n",
              "0  16.0   6.566231      2.907983   54.732757\n",
              "1   NaN   9.237765      2.409567   46.677897\n",
              "2  41.0  15.886446      2.913410  150.177829\n",
              "3  83.0  30.020028      6.922304  298.246340\n",
              "4  15.0   8.437408      1.405998   56.594181"
            ],
            "text/html": [
              "\n",
              "  <div id=\"df-9ce97e99-20d1-4504-8e03-90b9241c5e5a\">\n",
              "    <div class=\"colab-df-container\">\n",
              "      <div>\n",
              "<style scoped>\n",
              "    .dataframe tbody tr th:only-of-type {\n",
              "        vertical-align: middle;\n",
              "    }\n",
              "\n",
              "    .dataframe tbody tr th {\n",
              "        vertical-align: top;\n",
              "    }\n",
              "\n",
              "    .dataframe thead th {\n",
              "        text-align: right;\n",
              "    }\n",
              "</style>\n",
              "<table border=\"1\" class=\"dataframe\">\n",
              "  <thead>\n",
              "    <tr style=\"text-align: right;\">\n",
              "      <th></th>\n",
              "      <th>TV</th>\n",
              "      <th>Radio</th>\n",
              "      <th>Social Media</th>\n",
              "      <th>Sales</th>\n",
              "    </tr>\n",
              "  </thead>\n",
              "  <tbody>\n",
              "    <tr>\n",
              "      <th>0</th>\n",
              "      <td>16.0</td>\n",
              "      <td>6.566231</td>\n",
              "      <td>2.907983</td>\n",
              "      <td>54.732757</td>\n",
              "    </tr>\n",
              "    <tr>\n",
              "      <th>1</th>\n",
              "      <td>NaN</td>\n",
              "      <td>9.237765</td>\n",
              "      <td>2.409567</td>\n",
              "      <td>46.677897</td>\n",
              "    </tr>\n",
              "    <tr>\n",
              "      <th>2</th>\n",
              "      <td>41.0</td>\n",
              "      <td>15.886446</td>\n",
              "      <td>2.913410</td>\n",
              "      <td>150.177829</td>\n",
              "    </tr>\n",
              "    <tr>\n",
              "      <th>3</th>\n",
              "      <td>83.0</td>\n",
              "      <td>30.020028</td>\n",
              "      <td>6.922304</td>\n",
              "      <td>298.246340</td>\n",
              "    </tr>\n",
              "    <tr>\n",
              "      <th>4</th>\n",
              "      <td>15.0</td>\n",
              "      <td>8.437408</td>\n",
              "      <td>1.405998</td>\n",
              "      <td>56.594181</td>\n",
              "    </tr>\n",
              "  </tbody>\n",
              "</table>\n",
              "</div>\n",
              "      <button class=\"colab-df-convert\" onclick=\"convertToInteractive('df-9ce97e99-20d1-4504-8e03-90b9241c5e5a')\"\n",
              "              title=\"Convert this dataframe to an interactive table.\"\n",
              "              style=\"display:none;\">\n",
              "        \n",
              "  <svg xmlns=\"http://www.w3.org/2000/svg\" height=\"24px\"viewBox=\"0 0 24 24\"\n",
              "       width=\"24px\">\n",
              "    <path d=\"M0 0h24v24H0V0z\" fill=\"none\"/>\n",
              "    <path d=\"M18.56 5.44l.94 2.06.94-2.06 2.06-.94-2.06-.94-.94-2.06-.94 2.06-2.06.94zm-11 1L8.5 8.5l.94-2.06 2.06-.94-2.06-.94L8.5 2.5l-.94 2.06-2.06.94zm10 10l.94 2.06.94-2.06 2.06-.94-2.06-.94-.94-2.06-.94 2.06-2.06.94z\"/><path d=\"M17.41 7.96l-1.37-1.37c-.4-.4-.92-.59-1.43-.59-.52 0-1.04.2-1.43.59L10.3 9.45l-7.72 7.72c-.78.78-.78 2.05 0 2.83L4 21.41c.39.39.9.59 1.41.59.51 0 1.02-.2 1.41-.59l7.78-7.78 2.81-2.81c.8-.78.8-2.07 0-2.86zM5.41 20L4 18.59l7.72-7.72 1.47 1.35L5.41 20z\"/>\n",
              "  </svg>\n",
              "      </button>\n",
              "      \n",
              "  <style>\n",
              "    .colab-df-container {\n",
              "      display:flex;\n",
              "      flex-wrap:wrap;\n",
              "      gap: 12px;\n",
              "    }\n",
              "\n",
              "    .colab-df-convert {\n",
              "      background-color: #E8F0FE;\n",
              "      border: none;\n",
              "      border-radius: 50%;\n",
              "      cursor: pointer;\n",
              "      display: none;\n",
              "      fill: #1967D2;\n",
              "      height: 32px;\n",
              "      padding: 0 0 0 0;\n",
              "      width: 32px;\n",
              "    }\n",
              "\n",
              "    .colab-df-convert:hover {\n",
              "      background-color: #E2EBFA;\n",
              "      box-shadow: 0px 1px 2px rgba(60, 64, 67, 0.3), 0px 1px 3px 1px rgba(60, 64, 67, 0.15);\n",
              "      fill: #174EA6;\n",
              "    }\n",
              "\n",
              "    [theme=dark] .colab-df-convert {\n",
              "      background-color: #3B4455;\n",
              "      fill: #D2E3FC;\n",
              "    }\n",
              "\n",
              "    [theme=dark] .colab-df-convert:hover {\n",
              "      background-color: #434B5C;\n",
              "      box-shadow: 0px 1px 3px 1px rgba(0, 0, 0, 0.15);\n",
              "      filter: drop-shadow(0px 1px 2px rgba(0, 0, 0, 0.3));\n",
              "      fill: #FFFFFF;\n",
              "    }\n",
              "  </style>\n",
              "\n",
              "      <script>\n",
              "        const buttonEl =\n",
              "          document.querySelector('#df-9ce97e99-20d1-4504-8e03-90b9241c5e5a button.colab-df-convert');\n",
              "        buttonEl.style.display =\n",
              "          google.colab.kernel.accessAllowed ? 'block' : 'none';\n",
              "\n",
              "        async function convertToInteractive(key) {\n",
              "          const element = document.querySelector('#df-9ce97e99-20d1-4504-8e03-90b9241c5e5a');\n",
              "          const dataTable =\n",
              "            await google.colab.kernel.invokeFunction('convertToInteractive',\n",
              "                                                     [key], {});\n",
              "          if (!dataTable) return;\n",
              "\n",
              "          const docLinkHtml = 'Like what you see? Visit the ' +\n",
              "            '<a target=\"_blank\" href=https://colab.research.google.com/notebooks/data_table.ipynb>data table notebook</a>'\n",
              "            + ' to learn more about interactive tables.';\n",
              "          element.innerHTML = '';\n",
              "          dataTable['output_type'] = 'display_data';\n",
              "          await google.colab.output.renderOutput(dataTable, element);\n",
              "          const docLink = document.createElement('div');\n",
              "          docLink.innerHTML = docLinkHtml;\n",
              "          element.appendChild(docLink);\n",
              "        }\n",
              "      </script>\n",
              "    </div>\n",
              "  </div>\n",
              "  "
            ]
          },
          "metadata": {},
          "execution_count": 4
        }
      ]
    },
    {
      "cell_type": "code",
      "source": [
        "# Mengetahui jumlah kolom dan baris dari data\n",
        "# Data kita mempunyai 4 kolom dengan 200 baris\n",
        "df.shape"
      ],
      "metadata": {
        "colab": {
          "base_uri": "https://localhost:8080/"
        },
        "id": "-TANhT4tMDSF",
        "outputId": "6855fa1b-23c9-463e-eefb-9ffb9ad04385"
      },
      "execution_count": 5,
      "outputs": [
        {
          "output_type": "execute_result",
          "data": {
            "text/plain": [
              "(200, 4)"
            ]
          },
          "metadata": {},
          "execution_count": 5
        }
      ]
    },
    {
      "cell_type": "code",
      "source": [
        "# Mengetahui informasi data kita dari jumlah data, tipe data , memory yang digunakan dll\n",
        "df.info()"
      ],
      "metadata": {
        "colab": {
          "base_uri": "https://localhost:8080/"
        },
        "id": "tJa9hjpRMHh-",
        "outputId": "3beeb567-444a-4e74-c28a-8aad1ba9a0ad"
      },
      "execution_count": 6,
      "outputs": [
        {
          "output_type": "stream",
          "name": "stdout",
          "text": [
            "<class 'pandas.core.frame.DataFrame'>\n",
            "RangeIndex: 200 entries, 0 to 199\n",
            "Data columns (total 4 columns):\n",
            " #   Column        Non-Null Count  Dtype  \n",
            "---  ------        --------------  -----  \n",
            " 0   TV            199 non-null    float64\n",
            " 1   Radio         200 non-null    float64\n",
            " 2   Social Media  200 non-null    float64\n",
            " 3   Sales         200 non-null    float64\n",
            "dtypes: float64(4)\n",
            "memory usage: 6.4 KB\n"
          ]
        }
      ]
    },
    {
      "cell_type": "code",
      "source": [
        "# Melihat statistical description dari data mulai dari mean, kuartil, standard deviation dll\n",
        "df.describe()"
      ],
      "metadata": {
        "colab": {
          "base_uri": "https://localhost:8080/",
          "height": 300
        },
        "id": "JqSionHtMHZO",
        "outputId": "0e00e9f2-7038-4354-d370-48a192e758b8"
      },
      "execution_count": 7,
      "outputs": [
        {
          "output_type": "execute_result",
          "data": {
            "text/plain": [
              "               TV       Radio  Social Media       Sales\n",
              "count  199.000000  200.000000    200.000000  200.000000\n",
              "mean    54.959799   19.026675      3.455329  194.708553\n",
              "std     26.462445   10.438489      2.199620   94.866019\n",
              "min     10.000000    0.226326      0.003177   32.566825\n",
              "25%     32.000000   10.267054      1.648859  112.298505\n",
              "50%     51.000000   18.776525      3.219552  179.727144\n",
              "75%     77.000000   26.026959      4.930449  274.147058\n",
              "max    100.000000   47.116293      9.997472  356.582143"
            ],
            "text/html": [
              "\n",
              "  <div id=\"df-c596bf9a-dfbe-47e2-b125-db1daaf51b08\">\n",
              "    <div class=\"colab-df-container\">\n",
              "      <div>\n",
              "<style scoped>\n",
              "    .dataframe tbody tr th:only-of-type {\n",
              "        vertical-align: middle;\n",
              "    }\n",
              "\n",
              "    .dataframe tbody tr th {\n",
              "        vertical-align: top;\n",
              "    }\n",
              "\n",
              "    .dataframe thead th {\n",
              "        text-align: right;\n",
              "    }\n",
              "</style>\n",
              "<table border=\"1\" class=\"dataframe\">\n",
              "  <thead>\n",
              "    <tr style=\"text-align: right;\">\n",
              "      <th></th>\n",
              "      <th>TV</th>\n",
              "      <th>Radio</th>\n",
              "      <th>Social Media</th>\n",
              "      <th>Sales</th>\n",
              "    </tr>\n",
              "  </thead>\n",
              "  <tbody>\n",
              "    <tr>\n",
              "      <th>count</th>\n",
              "      <td>199.000000</td>\n",
              "      <td>200.000000</td>\n",
              "      <td>200.000000</td>\n",
              "      <td>200.000000</td>\n",
              "    </tr>\n",
              "    <tr>\n",
              "      <th>mean</th>\n",
              "      <td>54.959799</td>\n",
              "      <td>19.026675</td>\n",
              "      <td>3.455329</td>\n",
              "      <td>194.708553</td>\n",
              "    </tr>\n",
              "    <tr>\n",
              "      <th>std</th>\n",
              "      <td>26.462445</td>\n",
              "      <td>10.438489</td>\n",
              "      <td>2.199620</td>\n",
              "      <td>94.866019</td>\n",
              "    </tr>\n",
              "    <tr>\n",
              "      <th>min</th>\n",
              "      <td>10.000000</td>\n",
              "      <td>0.226326</td>\n",
              "      <td>0.003177</td>\n",
              "      <td>32.566825</td>\n",
              "    </tr>\n",
              "    <tr>\n",
              "      <th>25%</th>\n",
              "      <td>32.000000</td>\n",
              "      <td>10.267054</td>\n",
              "      <td>1.648859</td>\n",
              "      <td>112.298505</td>\n",
              "    </tr>\n",
              "    <tr>\n",
              "      <th>50%</th>\n",
              "      <td>51.000000</td>\n",
              "      <td>18.776525</td>\n",
              "      <td>3.219552</td>\n",
              "      <td>179.727144</td>\n",
              "    </tr>\n",
              "    <tr>\n",
              "      <th>75%</th>\n",
              "      <td>77.000000</td>\n",
              "      <td>26.026959</td>\n",
              "      <td>4.930449</td>\n",
              "      <td>274.147058</td>\n",
              "    </tr>\n",
              "    <tr>\n",
              "      <th>max</th>\n",
              "      <td>100.000000</td>\n",
              "      <td>47.116293</td>\n",
              "      <td>9.997472</td>\n",
              "      <td>356.582143</td>\n",
              "    </tr>\n",
              "  </tbody>\n",
              "</table>\n",
              "</div>\n",
              "      <button class=\"colab-df-convert\" onclick=\"convertToInteractive('df-c596bf9a-dfbe-47e2-b125-db1daaf51b08')\"\n",
              "              title=\"Convert this dataframe to an interactive table.\"\n",
              "              style=\"display:none;\">\n",
              "        \n",
              "  <svg xmlns=\"http://www.w3.org/2000/svg\" height=\"24px\"viewBox=\"0 0 24 24\"\n",
              "       width=\"24px\">\n",
              "    <path d=\"M0 0h24v24H0V0z\" fill=\"none\"/>\n",
              "    <path d=\"M18.56 5.44l.94 2.06.94-2.06 2.06-.94-2.06-.94-.94-2.06-.94 2.06-2.06.94zm-11 1L8.5 8.5l.94-2.06 2.06-.94-2.06-.94L8.5 2.5l-.94 2.06-2.06.94zm10 10l.94 2.06.94-2.06 2.06-.94-2.06-.94-.94-2.06-.94 2.06-2.06.94z\"/><path d=\"M17.41 7.96l-1.37-1.37c-.4-.4-.92-.59-1.43-.59-.52 0-1.04.2-1.43.59L10.3 9.45l-7.72 7.72c-.78.78-.78 2.05 0 2.83L4 21.41c.39.39.9.59 1.41.59.51 0 1.02-.2 1.41-.59l7.78-7.78 2.81-2.81c.8-.78.8-2.07 0-2.86zM5.41 20L4 18.59l7.72-7.72 1.47 1.35L5.41 20z\"/>\n",
              "  </svg>\n",
              "      </button>\n",
              "      \n",
              "  <style>\n",
              "    .colab-df-container {\n",
              "      display:flex;\n",
              "      flex-wrap:wrap;\n",
              "      gap: 12px;\n",
              "    }\n",
              "\n",
              "    .colab-df-convert {\n",
              "      background-color: #E8F0FE;\n",
              "      border: none;\n",
              "      border-radius: 50%;\n",
              "      cursor: pointer;\n",
              "      display: none;\n",
              "      fill: #1967D2;\n",
              "      height: 32px;\n",
              "      padding: 0 0 0 0;\n",
              "      width: 32px;\n",
              "    }\n",
              "\n",
              "    .colab-df-convert:hover {\n",
              "      background-color: #E2EBFA;\n",
              "      box-shadow: 0px 1px 2px rgba(60, 64, 67, 0.3), 0px 1px 3px 1px rgba(60, 64, 67, 0.15);\n",
              "      fill: #174EA6;\n",
              "    }\n",
              "\n",
              "    [theme=dark] .colab-df-convert {\n",
              "      background-color: #3B4455;\n",
              "      fill: #D2E3FC;\n",
              "    }\n",
              "\n",
              "    [theme=dark] .colab-df-convert:hover {\n",
              "      background-color: #434B5C;\n",
              "      box-shadow: 0px 1px 3px 1px rgba(0, 0, 0, 0.15);\n",
              "      filter: drop-shadow(0px 1px 2px rgba(0, 0, 0, 0.3));\n",
              "      fill: #FFFFFF;\n",
              "    }\n",
              "  </style>\n",
              "\n",
              "      <script>\n",
              "        const buttonEl =\n",
              "          document.querySelector('#df-c596bf9a-dfbe-47e2-b125-db1daaf51b08 button.colab-df-convert');\n",
              "        buttonEl.style.display =\n",
              "          google.colab.kernel.accessAllowed ? 'block' : 'none';\n",
              "\n",
              "        async function convertToInteractive(key) {\n",
              "          const element = document.querySelector('#df-c596bf9a-dfbe-47e2-b125-db1daaf51b08');\n",
              "          const dataTable =\n",
              "            await google.colab.kernel.invokeFunction('convertToInteractive',\n",
              "                                                     [key], {});\n",
              "          if (!dataTable) return;\n",
              "\n",
              "          const docLinkHtml = 'Like what you see? Visit the ' +\n",
              "            '<a target=\"_blank\" href=https://colab.research.google.com/notebooks/data_table.ipynb>data table notebook</a>'\n",
              "            + ' to learn more about interactive tables.';\n",
              "          element.innerHTML = '';\n",
              "          dataTable['output_type'] = 'display_data';\n",
              "          await google.colab.output.renderOutput(dataTable, element);\n",
              "          const docLink = document.createElement('div');\n",
              "          docLink.innerHTML = docLinkHtml;\n",
              "          element.appendChild(docLink);\n",
              "        }\n",
              "      </script>\n",
              "    </div>\n",
              "  </div>\n",
              "  "
            ]
          },
          "metadata": {},
          "execution_count": 7
        }
      ]
    },
    {
      "cell_type": "code",
      "source": [
        "# Mencari dan menangani missing value\n",
        "# Terdapat 1 missing value pada kolom TV\n",
        "df.isnull().sum()"
      ],
      "metadata": {
        "colab": {
          "base_uri": "https://localhost:8080/"
        },
        "id": "FX3MzWb3NRwZ",
        "outputId": "db4ed630-0b88-4ffe-a20e-2dee90f80b20"
      },
      "execution_count": 8,
      "outputs": [
        {
          "output_type": "execute_result",
          "data": {
            "text/plain": [
              "TV              1\n",
              "Radio           0\n",
              "Social Media    0\n",
              "Sales           0\n",
              "dtype: int64"
            ]
          },
          "metadata": {},
          "execution_count": 8
        }
      ]
    },
    {
      "cell_type": "code",
      "source": [
        "# Mengganti missing values pada kolom TV dengan nilai baru\n",
        "df['TV'].fillna(13.9, inplace=True)"
      ],
      "metadata": {
        "id": "IgTZ77-oOHn5"
      },
      "execution_count": 9,
      "outputs": []
    },
    {
      "cell_type": "code",
      "source": [
        "# Cek kembali jumlah missing values pada kolom TV\n",
        "# Ternyata sudah tidak ada lagi missing values\n",
        "print(df['TV'].isna().sum())"
      ],
      "metadata": {
        "colab": {
          "base_uri": "https://localhost:8080/"
        },
        "id": "-0OwSAn3OmWM",
        "outputId": "b0b8bfcc-00fb-429f-88a5-28ae11239613"
      },
      "execution_count": 10,
      "outputs": [
        {
          "output_type": "stream",
          "name": "stdout",
          "text": [
            "0\n"
          ]
        }
      ]
    },
    {
      "cell_type": "code",
      "source": [
        "# Bivariate analysis Sales and TV\n",
        "# Menggunakan scatter plot\n",
        "plt.scatter(df['Sales'], df['TV'])\n",
        "plt.xlabel('Sales')\n",
        "plt.ylabel('TV')\n",
        "plt.title('Scatter Plot Sales vs TV')\n",
        "plt.show()"
      ],
      "metadata": {
        "colab": {
          "base_uri": "https://localhost:8080/",
          "height": 472
        },
        "id": "k4XWFJnsQuBO",
        "outputId": "fd5f40a9-b95e-4e4e-c86d-b8e7d394c664"
      },
      "execution_count": 11,
      "outputs": [
        {
          "output_type": "display_data",
          "data": {
            "text/plain": [
              "<Figure size 640x480 with 1 Axes>"
            ],
            "image/png": "[encoded data removed]"
          },
          "metadata": {}
        }
      ]
    },
    {
      "cell_type": "code",
      "source": [
        "# Bivariate analysis Sales and Radio\n",
        "# Menggunakan scatter plot\n",
        "plt.scatter(df['Sales'], df['Radio'])\n",
        "plt.xlabel('Sales')\n",
        "plt.ylabel('Radio')\n",
        "plt.title('Scatter Plot Sales vs Radio')\n",
        "plt.show()"
      ],
      "metadata": {
        "colab": {
          "base_uri": "https://localhost:8080/",
          "height": 472
        },
        "id": "Pjf0em-Lk-FK",
        "outputId": "bf7fddaa-07c6-4266-87b0-ff8d1813b3c9"
      },
      "execution_count": 12,
      "outputs": [
        {
          "output_type": "display_data",
          "data": {
            "text/plain": [
              "<Figure size 640x480 with 1 Axes>"
            ],
            "image/png": "[encoded data removed]"
          },
          "metadata": {}
        }
      ]
    },
    {
      "cell_type": "code",
      "source": [
        "# Bivariate analysis Sales and Social Media\n",
        "# Menggunakan scatter plot\n",
        "plt.scatter(df['Sales'], df['Social Media'])\n",
        "plt.xlabel('Sales')\n",
        "plt.ylabel('Social Media')\n",
        "plt.title('Scatter Plot Sales vs Social Media')\n",
        "plt.show()"
      ],
      "metadata": {
        "colab": {
          "base_uri": "https://localhost:8080/",
          "height": 472
        },
        "id": "WMJ-n02RlFrb",
        "outputId": "34e68ca4-b1f9-4303-932f-cc051ceb4e9b"
      },
      "execution_count": 13,
      "outputs": [
        {
          "output_type": "display_data",
          "data": {
            "text/plain": [
              "<Figure size 640x480 with 1 Axes>"
            ],
            "image/png": "[encoded data removed]"
          },
          "metadata": {}
        }
      ]
    },
    {
      "cell_type": "code",
      "source": [
        "# Mengetahui nilai korelasi antar variabel\n",
        "# Nilai korelasi Sales dan TV adalah 0.99\n",
        "# Nilai korelasi Sales dan Radio adalah 0.89\n",
        "# Nilai korelasi Sales dan Social Media adalah 0.59\n",
        "df.corr()"
      ],
      "metadata": {
        "colab": {
          "base_uri": "https://localhost:8080/",
          "height": 175
        },
        "id": "7P9U633nRGBV",
        "outputId": "2ae6962e-6eb4-42b7-8e47-11464845a79a"
      },
      "execution_count": 14,
      "outputs": [
        {
          "output_type": "execute_result",
          "data": {
            "text/plain": [
              "                    TV     Radio  Social Media     Sales\n",
              "TV            1.000000  0.890061      0.589292  0.999550\n",
              "Radio         0.890061  1.000000      0.646888  0.890127\n",
              "Social Media  0.589292  0.646888      1.000000  0.590194\n",
              "Sales         0.999550  0.890127      0.590194  1.000000"
            ],
            "text/html": [
              "\n",
              "  <div id=\"df-bca2ed53-2fe5-418a-be33-7cc108761f66\">\n",
              "    <div class=\"colab-df-container\">\n",
              "      <div>\n",
              "<style scoped>\n",
              "    .dataframe tbody tr th:only-of-type {\n",
              "        vertical-align: middle;\n",
              "    }\n",
              "\n",
              "    .dataframe tbody tr th {\n",
              "        vertical-align: top;\n",
              "    }\n",
              "\n",
              "    .dataframe thead th {\n",
              "        text-align: right;\n",
              "    }\n",
              "</style>\n",
              "<table border=\"1\" class=\"dataframe\">\n",
              "  <thead>\n",
              "    <tr style=\"text-align: right;\">\n",
              "      <th></th>\n",
              "      <th>TV</th>\n",
              "      <th>Radio</th>\n",
              "      <th>Social Media</th>\n",
              "      <th>Sales</th>\n",
              "    </tr>\n",
              "  </thead>\n",
              "  <tbody>\n",
              "    <tr>\n",
              "      <th>TV</th>\n",
              "      <td>1.000000</td>\n",
              "      <td>0.890061</td>\n",
              "      <td>0.589292</td>\n",
              "      <td>0.999550</td>\n",
              "    </tr>\n",
              "    <tr>\n",
              "      <th>Radio</th>\n",
              "      <td>0.890061</td>\n",
              "      <td>1.000000</td>\n",
              "      <td>0.646888</td>\n",
              "      <td>0.890127</td>\n",
              "    </tr>\n",
              "    <tr>\n",
              "      <th>Social Media</th>\n",
              "      <td>0.589292</td>\n",
              "      <td>0.646888</td>\n",
              "      <td>1.000000</td>\n",
              "      <td>0.590194</td>\n",
              "    </tr>\n",
              "    <tr>\n",
              "      <th>Sales</th>\n",
              "      <td>0.999550</td>\n",
              "      <td>0.890127</td>\n",
              "      <td>0.590194</td>\n",
              "      <td>1.000000</td>\n",
              "    </tr>\n",
              "  </tbody>\n",
              "</table>\n",
              "</div>\n",
              "      <button class=\"colab-df-convert\" onclick=\"convertToInteractive('df-bca2ed53-2fe5-418a-be33-7cc108761f66')\"\n",
              "              title=\"Convert this dataframe to an interactive table.\"\n",
              "              style=\"display:none;\">\n",
              "        \n",
              "  <svg xmlns=\"http://www.w3.org/2000/svg\" height=\"24px\"viewBox=\"0 0 24 24\"\n",
              "       width=\"24px\">\n",
              "    <path d=\"M0 0h24v24H0V0z\" fill=\"none\"/>\n",
              "    <path d=\"M18.56 5.44l.94 2.06.94-2.06 2.06-.94-2.06-.94-.94-2.06-.94 2.06-2.06.94zm-11 1L8.5 8.5l.94-2.06 2.06-.94-2.06-.94L8.5 2.5l-.94 2.06-2.06.94zm10 10l.94 2.06.94-2.06 2.06-.94-2.06-.94-.94-2.06-.94 2.06-2.06.94z\"/><path d=\"M17.41 7.96l-1.37-1.37c-.4-.4-.92-.59-1.43-.59-.52 0-1.04.2-1.43.59L10.3 9.45l-7.72 7.72c-.78.78-.78 2.05 0 2.83L4 21.41c.39.39.9.59 1.41.59.51 0 1.02-.2 1.41-.59l7.78-7.78 2.81-2.81c.8-.78.8-2.07 0-2.86zM5.41 20L4 18.59l7.72-7.72 1.47 1.35L5.41 20z\"/>\n",
              "  </svg>\n",
              "      </button>\n",
              "      \n",
              "  <style>\n",
              "    .colab-df-container {\n",
              "      display:flex;\n",
              "      flex-wrap:wrap;\n",
              "      gap: 12px;\n",
              "    }\n",
              "\n",
              "    .colab-df-convert {\n",
              "      background-color: #E8F0FE;\n",
              "      border: none;\n",
              "      border-radius: 50%;\n",
              "      cursor: pointer;\n",
              "      display: none;\n",
              "      fill: #1967D2;\n",
              "      height: 32px;\n",
              "      padding: 0 0 0 0;\n",
              "      width: 32px;\n",
              "    }\n",
              "\n",
              "    .colab-df-convert:hover {\n",
              "      background-color: #E2EBFA;\n",
              "      box-shadow: 0px 1px 2px rgba(60, 64, 67, 0.3), 0px 1px 3px 1px rgba(60, 64, 67, 0.15);\n",
              "      fill: #174EA6;\n",
              "    }\n",
              "\n",
              "    [theme=dark] .colab-df-convert {\n",
              "      background-color: #3B4455;\n",
              "      fill: #D2E3FC;\n",
              "    }\n",
              "\n",
              "    [theme=dark] .colab-df-convert:hover {\n",
              "      background-color: #434B5C;\n",
              "      box-shadow: 0px 1px 3px 1px rgba(0, 0, 0, 0.15);\n",
              "      filter: drop-shadow(0px 1px 2px rgba(0, 0, 0, 0.3));\n",
              "      fill: #FFFFFF;\n",
              "    }\n",
              "  </style>\n",
              "\n",
              "      <script>\n",
              "        const buttonEl =\n",
              "          document.querySelector('#df-bca2ed53-2fe5-418a-be33-7cc108761f66 button.colab-df-convert');\n",
              "        buttonEl.style.display =\n",
              "          google.colab.kernel.accessAllowed ? 'block' : 'none';\n",
              "\n",
              "        async function convertToInteractive(key) {\n",
              "          const element = document.querySelector('#df-bca2ed53-2fe5-418a-be33-7cc108761f66');\n",
              "          const dataTable =\n",
              "            await google.colab.kernel.invokeFunction('convertToInteractive',\n",
              "                                                     [key], {});\n",
              "          if (!dataTable) return;\n",
              "\n",
              "          const docLinkHtml = 'Like what you see? Visit the ' +\n",
              "            '<a target=\"_blank\" href=https://colab.research.google.com/notebooks/data_table.ipynb>data table notebook</a>'\n",
              "            + ' to learn more about interactive tables.';\n",
              "          element.innerHTML = '';\n",
              "          dataTable['output_type'] = 'display_data';\n",
              "          await google.colab.output.renderOutput(dataTable, element);\n",
              "          const docLink = document.createElement('div');\n",
              "          docLink.innerHTML = docLinkHtml;\n",
              "          element.appendChild(docLink);\n",
              "        }\n",
              "      </script>\n",
              "    </div>\n",
              "  </div>\n",
              "  "
            ]
          },
          "metadata": {},
          "execution_count": 14
        }
      ]
    },
    {
      "cell_type": "code",
      "source": [
        "# Mengurutkan hasil korelasi\n",
        "correlation = df.corr()\n",
        "print(correlation[\"Sales\"].sort_values(ascending=False))"
      ],
      "metadata": {
        "colab": {
          "base_uri": "https://localhost:8080/"
        },
        "id": "rM9Rl75tmZJR",
        "outputId": "0761ce80-3f03-4684-bd99-2d616e17520c"
      },
      "execution_count": 15,
      "outputs": [
        {
          "output_type": "stream",
          "name": "stdout",
          "text": [
            "Sales           1.000000\n",
            "TV              0.999550\n",
            "Radio           0.890127\n",
            "Social Media    0.590194\n",
            "Name: Sales, dtype: float64\n"
          ]
        }
      ]
    },
    {
      "cell_type": "markdown",
      "source": [
        "**3. Modelling**"
      ],
      "metadata": {
        "id": "cYeo7TRJ_W2I"
      }
    },
    {
      "cell_type": "code",
      "source": [
        "# Recall data\n",
        "df.head()"
      ],
      "metadata": {
        "colab": {
          "base_uri": "https://localhost:8080/",
          "height": 206
        },
        "id": "jY5A6pNw0MPM",
        "outputId": "fe92e4e5-7f89-4de5-df86-baf160d92c48"
      },
      "execution_count": 16,
      "outputs": [
        {
          "output_type": "execute_result",
          "data": {
            "text/plain": [
              "     TV      Radio  Social Media       Sales\n",
              "0  16.0   6.566231      2.907983   54.732757\n",
              "1  13.9   9.237765      2.409567   46.677897\n",
              "2  41.0  15.886446      2.913410  150.177829\n",
              "3  83.0  30.020028      6.922304  298.246340\n",
              "4  15.0   8.437408      1.405998   56.594181"
            ],
            "text/html": [
              "\n",
              "  <div id=\"df-affcf49d-38d2-41a2-8223-bf05fc289bd1\">\n",
              "    <div class=\"colab-df-container\">\n",
              "      <div>\n",
              "<style scoped>\n",
              "    .dataframe tbody tr th:only-of-type {\n",
              "        vertical-align: middle;\n",
              "    }\n",
              "\n",
              "    .dataframe tbody tr th {\n",
              "        vertical-align: top;\n",
              "    }\n",
              "\n",
              "    .dataframe thead th {\n",
              "        text-align: right;\n",
              "    }\n",
              "</style>\n",
              "<table border=\"1\" class=\"dataframe\">\n",
              "  <thead>\n",
              "    <tr style=\"text-align: right;\">\n",
              "      <th></th>\n",
              "      <th>TV</th>\n",
              "      <th>Radio</th>\n",
              "      <th>Social Media</th>\n",
              "      <th>Sales</th>\n",
              "    </tr>\n",
              "  </thead>\n",
              "  <tbody>\n",
              "    <tr>\n",
              "      <th>0</th>\n",
              "      <td>16.0</td>\n",
              "      <td>6.566231</td>\n",
              "      <td>2.907983</td>\n",
              "      <td>54.732757</td>\n",
              "    </tr>\n",
              "    <tr>\n",
              "      <th>1</th>\n",
              "      <td>13.9</td>\n",
              "      <td>9.237765</td>\n",
              "      <td>2.409567</td>\n",
              "      <td>46.677897</td>\n",
              "    </tr>\n",
              "    <tr>\n",
              "      <th>2</th>\n",
              "      <td>41.0</td>\n",
              "      <td>15.886446</td>\n",
              "      <td>2.913410</td>\n",
              "      <td>150.177829</td>\n",
              "    </tr>\n",
              "    <tr>\n",
              "      <th>3</th>\n",
              "      <td>83.0</td>\n",
              "      <td>30.020028</td>\n",
              "      <td>6.922304</td>\n",
              "      <td>298.246340</td>\n",
              "    </tr>\n",
              "    <tr>\n",
              "      <th>4</th>\n",
              "      <td>15.0</td>\n",
              "      <td>8.437408</td>\n",
              "      <td>1.405998</td>\n",
              "      <td>56.594181</td>\n",
              "    </tr>\n",
              "  </tbody>\n",
              "</table>\n",
              "</div>\n",
              "      <button class=\"colab-df-convert\" onclick=\"convertToInteractive('df-affcf49d-38d2-41a2-8223-bf05fc289bd1')\"\n",
              "              title=\"Convert this dataframe to an interactive table.\"\n",
              "              style=\"display:none;\">\n",
              "        \n",
              "  <svg xmlns=\"http://www.w3.org/2000/svg\" height=\"24px\"viewBox=\"0 0 24 24\"\n",
              "       width=\"24px\">\n",
              "    <path d=\"M0 0h24v24H0V0z\" fill=\"none\"/>\n",
              "    <path d=\"M18.56 5.44l.94 2.06.94-2.06 2.06-.94-2.06-.94-.94-2.06-.94 2.06-2.06.94zm-11 1L8.5 8.5l.94-2.06 2.06-.94-2.06-.94L8.5 2.5l-.94 2.06-2.06.94zm10 10l.94 2.06.94-2.06 2.06-.94-2.06-.94-.94-2.06-.94 2.06-2.06.94z\"/><path d=\"M17.41 7.96l-1.37-1.37c-.4-.4-.92-.59-1.43-.59-.52 0-1.04.2-1.43.59L10.3 9.45l-7.72 7.72c-.78.78-.78 2.05 0 2.83L4 21.41c.39.39.9.59 1.41.59.51 0 1.02-.2 1.41-.59l7.78-7.78 2.81-2.81c.8-.78.8-2.07 0-2.86zM5.41 20L4 18.59l7.72-7.72 1.47 1.35L5.41 20z\"/>\n",
              "  </svg>\n",
              "      </button>\n",
              "      \n",
              "  <style>\n",
              "    .colab-df-container {\n",
              "      display:flex;\n",
              "      flex-wrap:wrap;\n",
              "      gap: 12px;\n",
              "    }\n",
              "\n",
              "    .colab-df-convert {\n",
              "      background-color: #E8F0FE;\n",
              "      border: none;\n",
              "      border-radius: 50%;\n",
              "      cursor: pointer;\n",
              "      display: none;\n",
              "      fill: #1967D2;\n",
              "      height: 32px;\n",
              "      padding: 0 0 0 0;\n",
              "      width: 32px;\n",
              "    }\n",
              "\n",
              "    .colab-df-convert:hover {\n",
              "      background-color: #E2EBFA;\n",
              "      box-shadow: 0px 1px 2px rgba(60, 64, 67, 0.3), 0px 1px 3px 1px rgba(60, 64, 67, 0.15);\n",
              "      fill: #174EA6;\n",
              "    }\n",
              "\n",
              "    [theme=dark] .colab-df-convert {\n",
              "      background-color: #3B4455;\n",
              "      fill: #D2E3FC;\n",
              "    }\n",
              "\n",
              "    [theme=dark] .colab-df-convert:hover {\n",
              "      background-color: #434B5C;\n",
              "      box-shadow: 0px 1px 3px 1px rgba(0, 0, 0, 0.15);\n",
              "      filter: drop-shadow(0px 1px 2px rgba(0, 0, 0, 0.3));\n",
              "      fill: #FFFFFF;\n",
              "    }\n",
              "  </style>\n",
              "\n",
              "      <script>\n",
              "        const buttonEl =\n",
              "          document.querySelector('#df-affcf49d-38d2-41a2-8223-bf05fc289bd1 button.colab-df-convert');\n",
              "        buttonEl.style.display =\n",
              "          google.colab.kernel.accessAllowed ? 'block' : 'none';\n",
              "\n",
              "        async function convertToInteractive(key) {\n",
              "          const element = document.querySelector('#df-affcf49d-38d2-41a2-8223-bf05fc289bd1');\n",
              "          const dataTable =\n",
              "            await google.colab.kernel.invokeFunction('convertToInteractive',\n",
              "                                                     [key], {});\n",
              "          if (!dataTable) return;\n",
              "\n",
              "          const docLinkHtml = 'Like what you see? Visit the ' +\n",
              "            '<a target=\"_blank\" href=https://colab.research.google.com/notebooks/data_table.ipynb>data table notebook</a>'\n",
              "            + ' to learn more about interactive tables.';\n",
              "          element.innerHTML = '';\n",
              "          dataTable['output_type'] = 'display_data';\n",
              "          await google.colab.output.renderOutput(dataTable, element);\n",
              "          const docLink = document.createElement('div');\n",
              "          docLink.innerHTML = docLinkHtml;\n",
              "          element.appendChild(docLink);\n",
              "        }\n",
              "      </script>\n",
              "    </div>\n",
              "  </div>\n",
              "  "
            ]
          },
          "metadata": {},
          "execution_count": 16
        }
      ]
    },
    {
      "cell_type": "code",
      "source": [
        "# Pertama, buat variabel x dan y\n",
        "x = np.array(df.drop([\"Sales\"], 1))\n",
        "y = np.array(df[\"Sales\"])"
      ],
      "metadata": {
        "colab": {
          "base_uri": "https://localhost:8080/"
        },
        "id": "0jh2c9bRmvgj",
        "outputId": "38d00488-3132-4844-d3a2-d7d616c61913"
      },
      "execution_count": 17,
      "outputs": [
        {
          "output_type": "stream",
          "name": "stderr",
          "text": [
            "<ipython-input-17-62953b07dc3a>:2: FutureWarning: In a future version of pandas all arguments of DataFrame.drop except for the argument 'labels' will be keyword-only.\n",
            "  x = np.array(df.drop([\"Sales\"], 1))\n"
          ]
        }
      ]
    },
    {
      "cell_type": "code",
      "source": [
        "# Kedua, kita split data kita menjadi training and testing dengan porsi 80:20\n",
        "x_train, x_test, y_train, y_test = train_test_split(x, y, test_size=0.2)"
      ],
      "metadata": {
        "id": "FpRYpbVGnbR6"
      },
      "execution_count": 18,
      "outputs": []
    },
    {
      "cell_type": "code",
      "source": [
        "# Ketiga, kita buat object linear regresi\n",
        "lin_reg = LinearRegression()"
      ],
      "metadata": {
        "id": "85uqHOH6nyKw"
      },
      "execution_count": 19,
      "outputs": []
    },
    {
      "cell_type": "markdown",
      "source": [
        "**4. Training**"
      ],
      "metadata": {
        "id": "9Uf_E8w-_aeC"
      }
    },
    {
      "cell_type": "code",
      "source": [
        "# Keempat, train the model menggunakan training data yang sudah displit\n",
        "lin_reg.fit(x_train, y_train)"
      ],
      "metadata": {
        "colab": {
          "base_uri": "https://localhost:8080/",
          "height": 75
        },
        "id": "3oD4UJfHoEKK",
        "outputId": "0f1a5359-0a8e-4bab-c599-7b6a122a5fa5"
      },
      "execution_count": 20,
      "outputs": [
        {
          "output_type": "execute_result",
          "data": {
            "text/plain": [
              "LinearRegression()"
            ],
            "text/html": [
              "<style>#sk-container-id-1 {color: black;background-color: white;}#sk-container-id-1 pre{padding: 0;}#sk-container-id-1 div.sk-toggleable {background-color: white;}#sk-container-id-1 label.sk-toggleable__label {cursor: pointer;display: block;width: 100%;margin-bottom: 0;padding: 0.3em;box-sizing: border-box;text-align: center;}#sk-container-id-1 label.sk-toggleable__label-arrow:before {content: \"▸\";float: left;margin-right: 0.25em;color: #696969;}#sk-container-id-1 label.sk-toggleable__label-arrow:hover:before {color: black;}#sk-container-id-1 div.sk-estimator:hover label.sk-toggleable__label-arrow:before {color: black;}#sk-container-id-1 div.sk-toggleable__content {max-height: 0;max-width: 0;overflow: hidden;text-align: left;background-color: #f0f8ff;}#sk-container-id-1 div.sk-toggleable__content pre {margin: 0.2em;color: black;border-radius: 0.25em;background-color: #f0f8ff;}#sk-container-id-1 input.sk-toggleable__control:checked~div.sk-toggleable__content {max-height: 200px;max-width: 100%;overflow: auto;}#sk-container-id-1 input.sk-toggleable__control:checked~label.sk-toggleable__label-arrow:before {content: \"▾\";}#sk-container-id-1 div.sk-estimator input.sk-toggleable__control:checked~label.sk-toggleable__label {background-color: #d4ebff;}#sk-container-id-1 div.sk-label input.sk-toggleable__control:checked~label.sk-toggleable__label {background-color: #d4ebff;}#sk-container-id-1 input.sk-hidden--visually {border: 0;clip: rect(1px 1px 1px 1px);clip: rect(1px, 1px, 1px, 1px);height: 1px;margin: -1px;overflow: hidden;padding: 0;position: absolute;width: 1px;}#sk-container-id-1 div.sk-estimator {font-family: monospace;background-color: #f0f8ff;border: 1px dotted black;border-radius: 0.25em;box-sizing: border-box;margin-bottom: 0.5em;}#sk-container-id-1 div.sk-estimator:hover {background-color: #d4ebff;}#sk-container-id-1 div.sk-parallel-item::after {content: \"\";width: 100%;border-bottom: 1px solid gray;flex-grow: 1;}#sk-container-id-1 div.sk-label:hover label.sk-toggleable__label {background-color: #d4ebff;}#sk-container-id-1 div.sk-serial::before {content: \"\";position: absolute;border-left: 1px solid gray;box-sizing: border-box;top: 0;bottom: 0;left: 50%;z-index: 0;}#sk-container-id-1 div.sk-serial {display: flex;flex-direction: column;align-items: center;background-color: white;padding-right: 0.2em;padding-left: 0.2em;position: relative;}#sk-container-id-1 div.sk-item {position: relative;z-index: 1;}#sk-container-id-1 div.sk-parallel {display: flex;align-items: stretch;justify-content: center;background-color: white;position: relative;}#sk-container-id-1 div.sk-item::before, #sk-container-id-1 div.sk-parallel-item::before {content: \"\";position: absolute;border-left: 1px solid gray;box-sizing: border-box;top: 0;bottom: 0;left: 50%;z-index: -1;}#sk-container-id-1 div.sk-parallel-item {display: flex;flex-direction: column;z-index: 1;position: relative;background-color: white;}#sk-container-id-1 div.sk-parallel-item:first-child::after {align-self: flex-end;width: 50%;}#sk-container-id-1 div.sk-parallel-item:last-child::after {align-self: flex-start;width: 50%;}#sk-container-id-1 div.sk-parallel-item:only-child::after {width: 0;}#sk-container-id-1 div.sk-dashed-wrapped {border: 1px dashed gray;margin: 0 0.4em 0.5em 0.4em;box-sizing: border-box;padding-bottom: 0.4em;background-color: white;}#sk-container-id-1 div.sk-label label {font-family: monospace;font-weight: bold;display: inline-block;line-height: 1.2em;}#sk-container-id-1 div.sk-label-container {text-align: center;}#sk-container-id-1 div.sk-container {/* jupyter's `normalize.less` sets `[hidden] { display: none; }` but bootstrap.min.css set `[hidden] { display: none !important; }` so we also need the `!important` here to be able to override the default hidden behavior on the sphinx rendered scikit-learn.org. See: https://github.com/scikit-learn/scikit-learn/issues/21755 */display: inline-block !important;position: relative;}#sk-container-id-1 div.sk-text-repr-fallback {display: none;}</style><div id=\"sk-container-id-1\" class=\"sk-top-container\"><div class=\"sk-text-repr-fallback\"><pre>LinearRegression()</pre><b>In a Jupyter environment, please rerun this cell to show the HTML representation or trust the notebook. <br />On GitHub, the HTML representation is unable to render, please try loading this page with nbviewer.org.</b></div><div class=\"sk-container\" hidden><div class=\"sk-item\"><div class=\"sk-estimator sk-toggleable\"><input class=\"sk-toggleable__control sk-hidden--visually\" id=\"sk-estimator-id-1\" type=\"checkbox\" checked><label for=\"sk-estimator-id-1\" class=\"sk-toggleable__label sk-toggleable__label-arrow\">LinearRegression</label><div class=\"sk-toggleable__content\"><pre>LinearRegression()</pre></div></div></div></div></div>"
            ]
          },
          "metadata": {},
          "execution_count": 20
        }
      ]
    },
    {
      "cell_type": "code",
      "source": [
        "# Kelima, cari tau nilai slope/koefisien (m) dan intercept (b)\n",
        "print(lin_reg.coef_)\n",
        "print(lin_reg.intercept_)"
      ],
      "metadata": {
        "colab": {
          "base_uri": "https://localhost:8080/"
        },
        "id": "L9glk3PIoOmu",
        "outputId": "2b8a2d5a-20c2-4df1-b5a8-d92197e45f06"
      },
      "execution_count": 21,
      "outputs": [
        {
          "output_type": "stream",
          "name": "stdout",
          "text": [
            "[ 3.57035714  0.00790892 -0.01293931]\n",
            "-0.9945816317719505\n"
          ]
        }
      ]
    },
    {
      "cell_type": "code",
      "source": [
        "# Keenam, kita cari tahu accuracy score dari model kita\n",
        "# menggunakan testing data yang sudah displit\n",
        "lin_reg.score(x_test, y_test)"
      ],
      "metadata": {
        "colab": {
          "base_uri": "https://localhost:8080/"
        },
        "id": "bkh5576Yog3O",
        "outputId": "7bab81cf-c388-40d7-b67d-d5a726eb16cc"
      },
      "execution_count": 22,
      "outputs": [
        {
          "output_type": "execute_result",
          "data": {
            "text/plain": [
              "0.999143480397795"
            ]
          },
          "metadata": {},
          "execution_count": 22
        }
      ]
    },
    {
      "cell_type": "code",
      "source": [
        "# Ketujuh, visualisasi aktual vs prediksi menggunakan data testing\n",
        "# Garis merupakan garis regresi dari persamaan yang kita dapat tadi\n",
        "import plotly.express as px\n",
        "import plotly.graph_objects as go\n",
        "figure = px.scatter(data_frame=df, x=\"Sales\", y=\"TV\", trendline=\"ols\")\n",
        "figure.show()"
      ],
      "metadata": {
        "colab": {
          "base_uri": "https://localhost:8080/",
          "height": 542
        },
        "id": "e9CR7oaGpysZ",
        "outputId": "3703b7c5-7ffa-4882-f89c-322076e80d1d"
      },
      "execution_count": 23,
      "outputs": [
        {
          "output_type": "display_data",
          "data": {
            "text/html": [
              "<html>\n",
              "<head><meta charset=\"utf-8\" /></head>\n",
              "<body>\n",
              "    <div>            <script src=\"https://cdnjs.cloudflare.com/ajax/libs/mathjax/2.7.5/MathJax.js?config=TeX-AMS-MML_SVG\"></script><script type=\"text/javascript\">if (window.MathJax && window.MathJax.Hub && window.MathJax.Hub.Config) {window.MathJax.Hub.Config({SVG: {font: \"STIX-Web\"}});}</script>                <script type=\"text/javascript\">window.PlotlyConfig = {MathJaxConfig: 'local'};</script>\n",
              "        <script src=\"https://cdn.plot.ly/plotly-2.18.2.min.js\"></script>                <div id=\"3ce073a0-28a7-4e67-b69e-a6f047cbec2e\" class=\"plotly-graph-div\" style=\"height:525px; width:100%;\"></div>            <script type=\"text/javascript\">                                    window.PLOTLYENV=window.PLOTLYENV || {};                                    if (document.getElementById(\"3ce073a0-28a7-4e67-b69e-a6f047cbec2e\")) {                    Plotly.newPlot(                        \"3ce073a0-28a7-4e67-b69e-a6f047cbec2e\",                        [{\"hovertemplate\":\"Sales=%{x}<br>TV=%{y}<extra></extra>\",\"legendgroup\":\"\",\"marker\":{\"color\":\"#636efa\",\"symbol\":\"circle\"},\"mode\":\"markers\",\"name\":\"\",\"orientation\":\"v\",\"showlegend\":false,\"x\":[54.73275715,46.67789698,150.1778288,298.2463398,56.5941808,105.8891476,198.6798248,108.7339319,270.1894,48.28058223,224.9610192,145.5439916,229.6323807,121.3364193,123.5261126,212.7643968,89.8199226,353.8046387,329.3505396,162.1913335,276.4013399,128.4846619,349.8615752,272.2501078,192.4619083,96.74937343,76.99292807,139.2887894,234.8510253,323.0321827,40.79219533,290.7775735,150.6264947,161.7851523,155.5991953,263.0206872,281.5789422,231.6700477,148.7069665,294.9524151,242.8248811,351.7730679,91.92229739,32.56682505,115.2625668,101.8731014,111.8997121,104.3526653,326.3817124,300.7305325,255.1551652,161.7170871,39.62567824,169.0081129,50.98848158,70.47172273,58.59009126,237.7721637,322.1004964,181.0796122,145.9192,228.5646491,288.9822393,49.81567405,299.099052,351.3598902,55.00971238,223.0991462,247.1394014,274.7071,289.1757587,168.0365387,198.3215216,349.7452965,166.1372196,59.28931563,272.6321364,77.41731834,349.4239745,127.0926738,43.06509252,336.5934202,345.3131637,154.2065565,304.7437748,335.2090696,104.1809671,112.269694,103.6348659,262.4011715,51.44298395,336.7606331,72.62590273,174.1981389,98.99963768,140.4152859,309.3616681,133.5654887,152.2546677,112.3081088,333.5791129,307.6190894,225.4862319,333.9664321,334.6459156,222.4683071,105.1853123,62.31766345,86.11553566,197.225133,143.8359148,263.105633,182.9860143,267.7373384,250.7513879,356.5821434,145.2164746,303.397391,132.3443679,104.5039262,174.5641128,96.43343282,104.1503565,354.7973747,80.94072509,131.1015188,135.5443199,49.18778559,141.3801238,119.3308074,321.0466894,240.4027581,226.9989318,341.4281402,335.3014311,273.9603772,249.3019048,117.0546557,208.7495053,106.0995933,243.0816632,156.9537519,61.70848657,299.3466037,222.4507601,82.54907175,144.5920869,234.021177,183.3277351,354.1039697,160.5796388,35.54799802,77.54794767,110.3748636,351.4266721,131.0772545,146.1456862,153.5822256,174.9861639,278.955153,178.3746767,197.0111372,261.0908818,204.099035,288.0207452,97.61236339,336.3726161,245.979961,334.643793,246.4947988,312.1429635,219.5681841,138.3753078,349.0483366,229.0903237,276.9190626,322.6677652,157.490072,56.81533661,139.792394,212.1691189,177.5025509,253.9861099,215.9054823,327.6536439,214.4576138,97.20055286,99.10933661,347.1547599,41.35123045,173.1550912,139.8343646,65.125304,152.9496029,270.6378511,303.6096465,248.0514829,239.7328932,162.1479537,167.5332259],\"xaxis\":\"x\",\"y\":[16.0,13.9,41.0,83.0,15.0,29.0,55.0,31.0,76.0,13.0,62.0,42.0,64.0,34.0,36.0,60.0,25.0,100.0,92.0,46.0,78.0,37.0,99.0,75.0,54.0,27.0,21.0,40.0,67.0,90.0,12.0,81.0,43.0,47.0,43.0,75.0,79.0,65.0,43.0,82.0,68.0,98.0,26.0,10.0,32.0,29.0,32.0,29.0,91.0,83.0,72.0,47.0,10.0,49.0,14.0,20.0,17.0,68.0,91.0,52.0,41.0,65.0,82.0,14.0,84.0,99.0,15.0,64.0,70.0,77.0,81.0,46.0,56.0,98.0,47.0,18.0,77.0,22.0,99.0,36.0,12.0,94.0,97.0,44.0,86.0,93.0,30.0,32.0,29.0,72.0,14.0,95.0,20.0,49.0,29.0,39.0,87.0,38.0,43.0,30.0,93.0,86.0,63.0,93.0,94.0,63.0,30.0,18.0,24.0,56.0,40.0,74.0,52.0,74.0,70.0,99.0,42.0,85.0,38.0,30.0,49.0,27.0,30.0,100.0,21.0,38.0,39.0,14.0,40.0,33.0,88.0,67.0,65.0,95.0,95.0,77.0,70.0,34.0,59.0,30.0,68.0,43.0,18.0,84.0,61.0,24.0,41.0,67.0,51.0,100.0,44.0,10.0,21.0,32.0,98.0,39.0,40.0,44.0,49.0,78.0,49.0,55.0,73.0,58.0,82.0,27.0,94.0,69.0,94.0,70.0,88.0,64.0,39.0,99.0,63.0,78.0,91.0,44.0,16.0,40.0,60.0,49.0,71.0,59.0,92.0,60.0,28.0,29.0,97.0,11.0,49.0,38.0,18.0,42.0,76.0,86.0,70.0,69.0,47.0,46.0],\"yaxis\":\"y\",\"type\":\"scatter\"},{\"hovertemplate\":\"<b>OLS trendline</b><br>TV = 0.279796 * Sales + 0.27583<br>R<sup>2</sup>=0.999101<br><br>Sales=%{x}<br>TV=%{y} <b>(trend)</b><extra></extra>\",\"legendgroup\":\"\",\"marker\":{\"color\":\"#636efa\",\"symbol\":\"circle\"},\"mode\":\"lines\",\"name\":\"\",\"showlegend\":false,\"x\":[32.56682505,35.54799802,39.62567824,40.79219533,41.35123045,43.06509252,46.67789698,48.28058223,49.18778559,49.81567405,50.98848158,51.44298395,54.73275715,55.00971238,56.5941808,56.81533661,58.59009126,59.28931563,61.70848657,62.31766345,65.125304,70.47172273,72.62590273,76.99292807,77.41731834,77.54794767,80.94072509,82.54907175,86.11553566,89.8199226,91.92229739,96.43343282,96.74937343,97.20055286,97.61236339,98.99963768,99.10933661,101.8731014,103.6348659,104.1503565,104.1809671,104.3526653,104.5039262,105.1853123,105.8891476,106.0995933,108.7339319,110.3748636,111.8997121,112.269694,112.3081088,115.2625668,117.0546557,119.3308074,121.3364193,123.5261126,127.0926738,128.4846619,131.0772545,131.1015188,132.3443679,133.5654887,135.5443199,138.3753078,139.2887894,139.792394,139.8343646,140.4152859,141.3801238,143.8359148,144.5920869,145.2164746,145.5439916,145.9192,146.1456862,148.7069665,150.1778288,150.6264947,152.2546677,152.9496029,153.5822256,154.2065565,155.5991953,156.9537519,157.490072,160.5796388,161.7170871,161.7851523,162.1479537,162.1913335,166.1372196,167.5332259,168.0365387,169.0081129,173.1550912,174.1981389,174.5641128,174.9861639,177.5025509,178.3746767,181.0796122,182.9860143,183.3277351,192.4619083,197.0111372,197.225133,198.3215216,198.6798248,204.099035,208.7495053,212.1691189,212.7643968,214.4576138,215.9054823,219.5681841,222.4507601,222.4683071,223.0991462,224.9610192,225.4862319,226.9989318,228.5646491,229.0903237,229.6323807,231.6700477,234.021177,234.8510253,237.7721637,239.7328932,240.4027581,242.8248811,243.0816632,245.979961,246.4947988,247.1394014,248.0514829,249.3019048,250.7513879,253.9861099,255.1551652,261.0908818,262.4011715,263.0206872,263.105633,267.7373384,270.1894,270.6378511,272.2501078,272.6321364,273.9603772,274.7071,276.4013399,276.9190626,278.955153,281.5789422,288.0207452,288.9822393,289.1757587,290.7775735,294.9524151,298.2463398,299.099052,299.3466037,300.7305325,303.397391,303.6096465,304.7437748,307.6190894,309.3616681,312.1429635,321.0466894,322.1004964,322.6677652,323.0321827,326.3817124,327.6536439,329.3505396,333.5791129,333.9664321,334.643793,334.6459156,335.2090696,335.3014311,336.3726161,336.5934202,336.7606331,341.4281402,345.3131637,347.1547599,349.0483366,349.4239745,349.7452965,349.8615752,351.3598902,351.4266721,351.7730679,353.8046387,354.1039697,354.7973747,356.5821434],\"xaxis\":\"x\",\"y\":[9.387896396358938,10.222016606843475,11.36293513710743,11.689321928627484,11.845737707468606,12.325269423660792,13.33611758542132,13.784542474390596,14.038374326889741,14.214054993421483,14.542201824761312,14.669369760451445,15.589835074488686,15.66732603427771,16.110653927458124,16.172532433886108,16.669101649129065,16.864741816455656,17.541616118610246,17.712061360292385,18.497627897389666,19.99353436148392,20.59626526408619,21.81814139554464,21.936884086727694,21.973433648035122,22.922719128675173,23.372728057399392,24.370610319593226,25.40708289102841,25.995318904167956,27.2575164593792,27.345915371742148,27.472153562180956,27.587376492691877,27.975530261164625,28.006223580707747,28.779513856570052,29.27244848007302,29.416680677299336,29.425245400102074,29.47328586610825,29.515608057747492,29.706257148851137,29.903187435852377,29.962069296564927,30.6991466448543,31.15827273675454,31.584919216035157,31.688438664054125,31.6991869706382,32.52583243993069,33.02725170862713,33.6641098024729,34.22527194804887,34.83793932920139,35.83584881274604,36.22532148630378,36.950718471642965,36.957507525222525,37.305251706229406,37.64691639626014,38.200585409654344,38.992684441407995,39.248272920215975,39.3891794624328,39.400922667559925,39.56346211156641,39.833419876624056,40.52054032432691,40.732114237535484,40.90681540549487,40.99845334523416,41.10343514693873,41.1668050750566,41.883441004754395,42.29498236233948,42.42051727719055,42.87607353613021,43.070513610936445,43.24751889878503,43.4222041743328,43.811858911134244,44.19085840149431,44.34091860907063,45.20536697736575,45.52362043832185,45.54266480760938,45.64417518059927,45.65631267422037,46.76035573961822,47.15095268937982,47.29177758712991,47.563620141842634,48.723927996261025,49.0157685488974,49.118166574631495,49.23625477545375,49.94032974031583,50.18434703256473,50.941177109622316,51.4745807520551,51.5701928579246,54.12589779314888,55.39875374810219,55.45862891252071,55.76539403450719,55.86564582922317,57.38191905394785,58.683101945555805,59.63989608145855,59.80645244442088,60.280207753035526,60.6853155378327,61.710124774701,62.51665794941232,62.5215675294604,62.698073773200385,63.2190183524931,63.36597075420938,63.78921810405635,64.22729950925414,64.37438114873325,64.52604651786297,65.09617755153371,65.75401407639406,65.98620229412978,66.80352507331172,67.35212930382815,67.53955480949554,68.21725508616866,68.2891016852946,69.10003375643265,69.2440833028437,69.42444051854423,69.67963725500164,70.02950027500026,70.43505981838557,71.34012202800936,71.66721900048194,73.32800863918865,73.69462242891443,73.86796043086287,73.89172792415789,75.18766047219462,75.87373744877242,75.99921226344713,76.45031520564211,76.55720527188441,76.92884170721348,77.13777174427524,77.61181325619707,77.7566699860287,78.32635989335854,79.06048556194429,80.8628761405292,81.13189832379138,81.18604427382019,81.63422561437932,82.80232950810662,83.72395639515176,83.96254184017768,84.03180581049666,84.41902352431875,85.16519980987407,85.22458804534988,85.54191258365483,86.34641404784236,86.83398056164643,87.61217583170072,90.10340253895367,90.39825350046969,90.55697302986934,90.65893558114131,91.59612052361321,91.95200184320731,92.42678643729086,93.60992424463697,93.71829459948717,93.90781745581509,93.90841135076067,94.06597957566484,94.09182195200326,94.39153520804688,94.45331530743098,94.50010080453139,95.80605052427879,96.89306447890934,97.40833569108979,97.93815083817019,98.04325281224784,98.13315741589561,98.1656917286292,98.58491424129411,98.60359954840146,98.700519700474,99.26894504189599,99.35269665216386,99.54670858316261,100.04607968933169],\"yaxis\":\"y\",\"type\":\"scatter\"}],                        {\"template\":{\"data\":{\"histogram2dcontour\":[{\"type\":\"histogram2dcontour\",\"colorbar\":{\"outlinewidth\":0,\"ticks\":\"\"},\"colorscale\":[[0.0,\"#0d0887\"],[0.1111111111111111,\"#46039f\"],[0.2222222222222222,\"#7201a8\"],[0.3333333333333333,\"#9c179e\"],[0.4444444444444444,\"#bd3786\"],[0.5555555555555556,\"#d8576b\"],[0.6666666666666666,\"#ed7953\"],[0.7777777777777778,\"#fb9f3a\"],[0.8888888888888888,\"#fdca26\"],[1.0,\"#f0f921\"]]}],\"choropleth\":[{\"type\":\"choropleth\",\"colorbar\":{\"outlinewidth\":0,\"ticks\":\"\"}}],\"histogram2d\":[{\"type\":\"histogram2d\",\"colorbar\":{\"outlinewidth\":0,\"ticks\":\"\"},\"colorscale\":[[0.0,\"#0d0887\"],[0.1111111111111111,\"#46039f\"],[0.2222222222222222,\"#7201a8\"],[0.3333333333333333,\"#9c179e\"],[0.4444444444444444,\"#bd3786\"],[0.5555555555555556,\"#d8576b\"],[0.6666666666666666,\"#ed7953\"],[0.7777777777777778,\"#fb9f3a\"],[0.8888888888888888,\"#fdca26\"],[1.0,\"#f0f921\"]]}],\"heatmap\":[{\"type\":\"heatmap\",\"colorbar\":{\"outlinewidth\":0,\"ticks\":\"\"},\"colorscale\":[[0.0,\"#0d0887\"],[0.1111111111111111,\"#46039f\"],[0.2222222222222222,\"#7201a8\"],[0.3333333333333333,\"#9c179e\"],[0.4444444444444444,\"#bd3786\"],[0.5555555555555556,\"#d8576b\"],[0.6666666666666666,\"#ed7953\"],[0.7777777777777778,\"#fb9f3a\"],[0.8888888888888888,\"#fdca26\"],[1.0,\"#f0f921\"]]}],\"heatmapgl\":[{\"type\":\"heatmapgl\",\"colorbar\":{\"outlinewidth\":0,\"ticks\":\"\"},\"colorscale\":[[0.0,\"#0d0887\"],[0.1111111111111111,\"#46039f\"],[0.2222222222222222,\"#7201a8\"],[0.3333333333333333,\"#9c179e\"],[0.4444444444444444,\"#bd3786\"],[0.5555555555555556,\"#d8576b\"],[0.6666666666666666,\"#ed7953\"],[0.7777777777777778,\"#fb9f3a\"],[0.8888888888888888,\"#fdca26\"],[1.0,\"#f0f921\"]]}],\"contourcarpet\":[{\"type\":\"contourcarpet\",\"colorbar\":{\"outlinewidth\":0,\"ticks\":\"\"}}],\"contour\":[{\"type\":\"contour\",\"colorbar\":{\"outlinewidth\":0,\"ticks\":\"\"},\"colorscale\":[[0.0,\"#0d0887\"],[0.1111111111111111,\"#46039f\"],[0.2222222222222222,\"#7201a8\"],[0.3333333333333333,\"#9c179e\"],[0.4444444444444444,\"#bd3786\"],[0.5555555555555556,\"#d8576b\"],[0.6666666666666666,\"#ed7953\"],[0.7777777777777778,\"#fb9f3a\"],[0.8888888888888888,\"#fdca26\"],[1.0,\"#f0f921\"]]}],\"surface\":[{\"type\":\"surface\",\"colorbar\":{\"outlinewidth\":0,\"ticks\":\"\"},\"colorscale\":[[0.0,\"#0d0887\"],[0.1111111111111111,\"#46039f\"],[0.2222222222222222,\"#7201a8\"],[0.3333333333333333,\"#9c179e\"],[0.4444444444444444,\"#bd3786\"],[0.5555555555555556,\"#d8576b\"],[0.6666666666666666,\"#ed7953\"],[0.7777777777777778,\"#fb9f3a\"],[0.8888888888888888,\"#fdca26\"],[1.0,\"#f0f921\"]]}],\"mesh3d\":[{\"type\":\"mesh3d\",\"colorbar\":{\"outlinewidth\":0,\"ticks\":\"\"}}],\"scatter\":[{\"fillpattern\":{\"fillmode\":\"overlay\",\"size\":10,\"solidity\":0.2},\"type\":\"scatter\"}],\"parcoords\":[{\"type\":\"parcoords\",\"line\":{\"colorbar\":{\"outlinewidth\":0,\"ticks\":\"\"}}}],\"scatterpolargl\":[{\"type\":\"scatterpolargl\",\"marker\":{\"colorbar\":{\"outlinewidth\":0,\"ticks\":\"\"}}}],\"bar\":[{\"error_x\":{\"color\":\"#2a3f5f\"},\"error_y\":{\"color\":\"#2a3f5f\"},\"marker\":{\"line\":{\"color\":\"#E5ECF6\",\"width\":0.5},\"pattern\":{\"fillmode\":\"overlay\",\"size\":10,\"solidity\":0.2}},\"type\":\"bar\"}],\"scattergeo\":[{\"type\":\"scattergeo\",\"marker\":{\"colorbar\":{\"outlinewidth\":0,\"ticks\":\"\"}}}],\"scatterpolar\":[{\"type\":\"scatterpolar\",\"marker\":{\"colorbar\":{\"outlinewidth\":0,\"ticks\":\"\"}}}],\"histogram\":[{\"marker\":{\"pattern\":{\"fillmode\":\"overlay\",\"size\":10,\"solidity\":0.2}},\"type\":\"histogram\"}],\"scattergl\":[{\"type\":\"scattergl\",\"marker\":{\"colorbar\":{\"outlinewidth\":0,\"ticks\":\"\"}}}],\"scatter3d\":[{\"type\":\"scatter3d\",\"line\":{\"colorbar\":{\"outlinewidth\":0,\"ticks\":\"\"}},\"marker\":{\"colorbar\":{\"outlinewidth\":0,\"ticks\":\"\"}}}],\"scattermapbox\":[{\"type\":\"scattermapbox\",\"marker\":{\"colorbar\":{\"outlinewidth\":0,\"ticks\":\"\"}}}],\"scatterternary\":[{\"type\":\"scatterternary\",\"marker\":{\"colorbar\":{\"outlinewidth\":0,\"ticks\":\"\"}}}],\"scattercarpet\":[{\"type\":\"scattercarpet\",\"marker\":{\"colorbar\":{\"outlinewidth\":0,\"ticks\":\"\"}}}],\"carpet\":[{\"aaxis\":{\"endlinecolor\":\"#2a3f5f\",\"gridcolor\":\"white\",\"linecolor\":\"white\",\"minorgridcolor\":\"white\",\"startlinecolor\":\"#2a3f5f\"},\"baxis\":{\"endlinecolor\":\"#2a3f5f\",\"gridcolor\":\"white\",\"linecolor\":\"white\",\"minorgridcolor\":\"white\",\"startlinecolor\":\"#2a3f5f\"},\"type\":\"carpet\"}],\"table\":[{\"cells\":{\"fill\":{\"color\":\"#EBF0F8\"},\"line\":{\"color\":\"white\"}},\"header\":{\"fill\":{\"color\":\"#C8D4E3\"},\"line\":{\"color\":\"white\"}},\"type\":\"table\"}],\"barpolar\":[{\"marker\":{\"line\":{\"color\":\"#E5ECF6\",\"width\":0.5},\"pattern\":{\"fillmode\":\"overlay\",\"size\":10,\"solidity\":0.2}},\"type\":\"barpolar\"}],\"pie\":[{\"automargin\":true,\"type\":\"pie\"}]},\"layout\":{\"autotypenumbers\":\"strict\",\"colorway\":[\"#636efa\",\"#EF553B\",\"#00cc96\",\"#ab63fa\",\"#FFA15A\",\"#19d3f3\",\"#FF6692\",\"#B6E880\",\"#FF97FF\",\"#FECB52\"],\"font\":{\"color\":\"#2a3f5f\"},\"hovermode\":\"closest\",\"hoverlabel\":{\"align\":\"left\"},\"paper_bgcolor\":\"white\",\"plot_bgcolor\":\"#E5ECF6\",\"polar\":{\"bgcolor\":\"#E5ECF6\",\"angularaxis\":{\"gridcolor\":\"white\",\"linecolor\":\"white\",\"ticks\":\"\"},\"radialaxis\":{\"gridcolor\":\"white\",\"linecolor\":\"white\",\"ticks\":\"\"}},\"ternary\":{\"bgcolor\":\"#E5ECF6\",\"aaxis\":{\"gridcolor\":\"white\",\"linecolor\":\"white\",\"ticks\":\"\"},\"baxis\":{\"gridcolor\":\"white\",\"linecolor\":\"white\",\"ticks\":\"\"},\"caxis\":{\"gridcolor\":\"white\",\"linecolor\":\"white\",\"ticks\":\"\"}},\"coloraxis\":{\"colorbar\":{\"outlinewidth\":0,\"ticks\":\"\"}},\"colorscale\":{\"sequential\":[[0.0,\"#0d0887\"],[0.1111111111111111,\"#46039f\"],[0.2222222222222222,\"#7201a8\"],[0.3333333333333333,\"#9c179e\"],[0.4444444444444444,\"#bd3786\"],[0.5555555555555556,\"#d8576b\"],[0.6666666666666666,\"#ed7953\"],[0.7777777777777778,\"#fb9f3a\"],[0.8888888888888888,\"#fdca26\"],[1.0,\"#f0f921\"]],\"sequentialminus\":[[0.0,\"#0d0887\"],[0.1111111111111111,\"#46039f\"],[0.2222222222222222,\"#7201a8\"],[0.3333333333333333,\"#9c179e\"],[0.4444444444444444,\"#bd3786\"],[0.5555555555555556,\"#d8576b\"],[0.6666666666666666,\"#ed7953\"],[0.7777777777777778,\"#fb9f3a\"],[0.8888888888888888,\"#fdca26\"],[1.0,\"#f0f921\"]],\"diverging\":[[0,\"#8e0152\"],[0.1,\"#c51b7d\"],[0.2,\"#de77ae\"],[0.3,\"#f1b6da\"],[0.4,\"#fde0ef\"],[0.5,\"#f7f7f7\"],[0.6,\"#e6f5d0\"],[0.7,\"#b8e186\"],[0.8,\"#7fbc41\"],[0.9,\"#4d9221\"],[1,\"#276419\"]]},\"xaxis\":{\"gridcolor\":\"white\",\"linecolor\":\"white\",\"ticks\":\"\",\"title\":{\"standoff\":15},\"zerolinecolor\":\"white\",\"automargin\":true,\"zerolinewidth\":2},\"yaxis\":{\"gridcolor\":\"white\",\"linecolor\":\"white\",\"ticks\":\"\",\"title\":{\"standoff\":15},\"zerolinecolor\":\"white\",\"automargin\":true,\"zerolinewidth\":2},\"scene\":{\"xaxis\":{\"backgroundcolor\":\"#E5ECF6\",\"gridcolor\":\"white\",\"linecolor\":\"white\",\"showbackground\":true,\"ticks\":\"\",\"zerolinecolor\":\"white\",\"gridwidth\":2},\"yaxis\":{\"backgroundcolor\":\"#E5ECF6\",\"gridcolor\":\"white\",\"linecolor\":\"white\",\"showbackground\":true,\"ticks\":\"\",\"zerolinecolor\":\"white\",\"gridwidth\":2},\"zaxis\":{\"backgroundcolor\":\"#E5ECF6\",\"gridcolor\":\"white\",\"linecolor\":\"white\",\"showbackground\":true,\"ticks\":\"\",\"zerolinecolor\":\"white\",\"gridwidth\":2}},\"shapedefaults\":{\"line\":{\"color\":\"#2a3f5f\"}},\"annotationdefaults\":{\"arrowcolor\":\"#2a3f5f\",\"arrowhead\":0,\"arrowwidth\":1},\"geo\":{\"bgcolor\":\"white\",\"landcolor\":\"#E5ECF6\",\"subunitcolor\":\"white\",\"showland\":true,\"showlakes\":true,\"lakecolor\":\"white\"},\"title\":{\"x\":0.05},\"mapbox\":{\"style\":\"light\"}}},\"xaxis\":{\"anchor\":\"y\",\"domain\":[0.0,1.0],\"title\":{\"text\":\"Sales\"}},\"yaxis\":{\"anchor\":\"x\",\"domain\":[0.0,1.0],\"title\":{\"text\":\"TV\"}},\"legend\":{\"tracegroupgap\":0},\"margin\":{\"t\":60}},                        {\"responsive\": true}                    ).then(function(){\n",
              "                            \n",
              "var gd = document.getElementById('3ce073a0-28a7-4e67-b69e-a6f047cbec2e');\n",
              "var x = new MutationObserver(function (mutations, observer) {{\n",
              "        var display = window.getComputedStyle(gd).display;\n",
              "        if (!display || display === 'none') {{\n",
              "            console.log([gd, 'removed!']);\n",
              "            Plotly.purge(gd);\n",
              "            observer.disconnect();\n",
              "        }}\n",
              "}});\n",
              "\n",
              "// Listen for the removal of the full notebook cells\n",
              "var notebookContainer = gd.closest('#notebook-container');\n",
              "if (notebookContainer) {{\n",
              "    x.observe(notebookContainer, {childList: true});\n",
              "}}\n",
              "\n",
              "// Listen for the clearing of the current output cell\n",
              "var outputEl = gd.closest('.output');\n",
              "if (outputEl) {{\n",
              "    x.observe(outputEl, {childList: true});\n",
              "}}\n",
              "\n",
              "                        })                };                            </script>        </div>\n",
              "</body>\n",
              "</html>"
            ]
          },
          "metadata": {}
        }
      ]
    },
    {
      "cell_type": "code",
      "source": [
        "figure = px.scatter(data_frame=df, x=\"Sales\", y=\"Radio\", trendline=\"ols\")\n",
        "figure.show()"
      ],
      "metadata": {
        "colab": {
          "base_uri": "https://localhost:8080/",
          "height": 542
        },
        "id": "ARSb5c3_sePR",
        "outputId": "97fdabd5-bdb7-4e01-d56c-0ce6d60730e2"
      },
      "execution_count": 24,
      "outputs": [
        {
          "output_type": "display_data",
          "data": {
            "text/html": [
              "<html>\n",
              "<head><meta charset=\"utf-8\" /></head>\n",
              "<body>\n",
              "    <div>            <script src=\"https://cdnjs.cloudflare.com/ajax/libs/mathjax/2.7.5/MathJax.js?config=TeX-AMS-MML_SVG\"></script><script type=\"text/javascript\">if (window.MathJax && window.MathJax.Hub && window.MathJax.Hub.Config) {window.MathJax.Hub.Config({SVG: {font: \"STIX-Web\"}});}</script>                <script type=\"text/javascript\">window.PlotlyConfig = {MathJaxConfig: 'local'};</script>\n",
              "        <script src=\"https://cdn.plot.ly/plotly-2.18.2.min.js\"></script>                <div id=\"6b7ebada-8633-49ff-b27b-a7b28bbceda4\" class=\"plotly-graph-div\" style=\"height:525px; width:100%;\"></div>            <script type=\"text/javascript\">                                    window.PLOTLYENV=window.PLOTLYENV || {};                                    if (document.getElementById(\"6b7ebada-8633-49ff-b27b-a7b28bbceda4\")) {                    Plotly.newPlot(                        \"6b7ebada-8633-49ff-b27b-a7b28bbceda4\",                        [{\"hovertemplate\":\"Sales=%{x}<br>Radio=%{y}<extra></extra>\",\"legendgroup\":\"\",\"marker\":{\"color\":\"#636efa\",\"symbol\":\"circle\"},\"mode\":\"markers\",\"name\":\"\",\"orientation\":\"v\",\"showlegend\":false,\"x\":[54.73275715,46.67789698,150.1778288,298.2463398,56.5941808,105.8891476,198.6798248,108.7339319,270.1894,48.28058223,224.9610192,145.5439916,229.6323807,121.3364193,123.5261126,212.7643968,89.8199226,353.8046387,329.3505396,162.1913335,276.4013399,128.4846619,349.8615752,272.2501078,192.4619083,96.74937343,76.99292807,139.2887894,234.8510253,323.0321827,40.79219533,290.7775735,150.6264947,161.7851523,155.5991953,263.0206872,281.5789422,231.6700477,148.7069665,294.9524151,242.8248811,351.7730679,91.92229739,32.56682505,115.2625668,101.8731014,111.8997121,104.3526653,326.3817124,300.7305325,255.1551652,161.7170871,39.62567824,169.0081129,50.98848158,70.47172273,58.59009126,237.7721637,322.1004964,181.0796122,145.9192,228.5646491,288.9822393,49.81567405,299.099052,351.3598902,55.00971238,223.0991462,247.1394014,274.7071,289.1757587,168.0365387,198.3215216,349.7452965,166.1372196,59.28931563,272.6321364,77.41731834,349.4239745,127.0926738,43.06509252,336.5934202,345.3131637,154.2065565,304.7437748,335.2090696,104.1809671,112.269694,103.6348659,262.4011715,51.44298395,336.7606331,72.62590273,174.1981389,98.99963768,140.4152859,309.3616681,133.5654887,152.2546677,112.3081088,333.5791129,307.6190894,225.4862319,333.9664321,334.6459156,222.4683071,105.1853123,62.31766345,86.11553566,197.225133,143.8359148,263.105633,182.9860143,267.7373384,250.7513879,356.5821434,145.2164746,303.397391,132.3443679,104.5039262,174.5641128,96.43343282,104.1503565,354.7973747,80.94072509,131.1015188,135.5443199,49.18778559,141.3801238,119.3308074,321.0466894,240.4027581,226.9989318,341.4281402,335.3014311,273.9603772,249.3019048,117.0546557,208.7495053,106.0995933,243.0816632,156.9537519,61.70848657,299.3466037,222.4507601,82.54907175,144.5920869,234.021177,183.3277351,354.1039697,160.5796388,35.54799802,77.54794767,110.3748636,351.4266721,131.0772545,146.1456862,153.5822256,174.9861639,278.955153,178.3746767,197.0111372,261.0908818,204.099035,288.0207452,97.61236339,336.3726161,245.979961,334.643793,246.4947988,312.1429635,219.5681841,138.3753078,349.0483366,229.0903237,276.9190626,322.6677652,157.490072,56.81533661,139.792394,212.1691189,177.5025509,253.9861099,215.9054823,327.6536439,214.4576138,97.20055286,99.10933661,347.1547599,41.35123045,173.1550912,139.8343646,65.125304,152.9496029,270.6378511,303.6096465,248.0514829,239.7328932,162.1479537,167.5332259],\"xaxis\":\"x\",\"y\":[6.566230788,9.237764567,15.88644602,30.02002826,8.437407682,9.614382036,24.89381148,17.35504181,24.64889821,0.431127823,24.34518879,15.8073374,20.24042393,0.226326491,3.90019598,22.35372075,9.905842649,36.11609149,40.73698967,12.69509229,35.56822382,2.828972458,37.26381865,20.34898797,27.807614,7.280088955,9.282685174,13.05041081,24.13761593,29.02101661,3.567660711,27.33577511,16.34871104,17.37652562,18.23019243,23.62623841,23.51057067,24.56354623,12.84212842,27.64758545,21.63920124,37.57095206,10.59953251,6.145248262,0.627618771,8.852094414,11.52414895,14.4341063,40.10852728,34.28141179,23.92269582,24.16913194,3.455868379,10.06762616,5.197856187,10.75005058,10.44745162,29.8927411,25.04555745,17.11323977,3.921540021,11.65648785,31.60769079,18.64944183,31.26640836,30.14056912,2.234293408,24.69852188,15.2477262,26.82235002,20.39194685,17.79013454,25.27608704,33.05515873,18.2339617,8.808702773,22.9553127,6.041725794,37.7178052,9.096779889,1.648197979,47.11629339,39.23230636,16.91203429,31.52189727,33.05945096,10.64510759,0.758066665,2.172596338,25.40659637,8.001265854,38.41522497,3.934783488,24.35904434,11.21368878,13.18725635,33.70789822,9.437711713,9.726736048,8.421994731,19.95638677,25.26070742,26.03598627,28.03820883,32.14620508,21.84654391,17.46901907,7.291955516,3.426021221,14.88018119,17.42884965,29.56295098,14.56589504,20.22086793,15.3541893,33.87824351,15.21523612,31.79693826,8.872274678,15.43267247,21.03218038,6.447508155,4.561312156,36.57380821,1.380311071,18.90360911,9.722746017,4.828279786,18.378401,17.44947546,26.00963987,28.48182095,20.06155575,30.73728576,36.42230623,31.6532001,21.43851856,16.19365273,13.45217597,12.1555835,22.38968684,8.573864534,8.477135293,33.9556193,28.38518716,11.88643795,8.715248318,18.30464111,24.00692574,36.73413489,18.94795499,0.758569411,1.397371107,5.471955572,31.36391464,4.856123013,19.63906306,19.01537456,24.87104934,30.11726533,20.42365468,22.37478299,22.86737608,17.39877506,23.43478708,10.33353047,29.34460985,23.29045109,37.09705521,23.80856837,27.46149343,23.08148805,11.78254265,37.73241144,20.77468172,23.80959139,22.27671374,16.60931402,12.25135762,12.7084063,21.43888957,16.31903668,26.02394936,21.27291211,33.29585958,19.01558716,10.93200857,9.197032332,31.70701011,9.398839224,13.76198317,4.338843042,12.38447814,10.01903472,32.31926372,29.91962703,30.47388738,24.36246064,14.59516994,17.87483166],\"yaxis\":\"y\",\"type\":\"scatter\"},{\"hovertemplate\":\"<b>OLS trendline</b><br>Radio = 0.0979443 * Sales + -0.0439096<br>R<sup>2</sup>=0.792326<br><br>Sales=%{x}<br>Radio=%{y} <b>(trend)</b><extra></extra>\",\"legendgroup\":\"\",\"marker\":{\"color\":\"#636efa\",\"symbol\":\"circle\"},\"mode\":\"lines\",\"name\":\"\",\"showlegend\":false,\"x\":[32.56682505,35.54799802,39.62567824,40.79219533,41.35123045,43.06509252,46.67789698,48.28058223,49.18778559,49.81567405,50.98848158,51.44298395,54.73275715,55.00971238,56.5941808,56.81533661,58.59009126,59.28931563,61.70848657,62.31766345,65.125304,70.47172273,72.62590273,76.99292807,77.41731834,77.54794767,80.94072509,82.54907175,86.11553566,89.8199226,91.92229739,96.43343282,96.74937343,97.20055286,97.61236339,98.99963768,99.10933661,101.8731014,103.6348659,104.1503565,104.1809671,104.3526653,104.5039262,105.1853123,105.8891476,106.0995933,108.7339319,110.3748636,111.8997121,112.269694,112.3081088,115.2625668,117.0546557,119.3308074,121.3364193,123.5261126,127.0926738,128.4846619,131.0772545,131.1015188,132.3443679,133.5654887,135.5443199,138.3753078,139.2887894,139.792394,139.8343646,140.4152859,141.3801238,143.8359148,144.5920869,145.2164746,145.5439916,145.9192,146.1456862,148.7069665,150.1778288,150.6264947,152.2546677,152.9496029,153.5822256,154.2065565,155.5991953,156.9537519,157.490072,160.5796388,161.7170871,161.7851523,162.1479537,162.1913335,166.1372196,167.5332259,168.0365387,169.0081129,173.1550912,174.1981389,174.5641128,174.9861639,177.5025509,178.3746767,181.0796122,182.9860143,183.3277351,192.4619083,197.0111372,197.225133,198.3215216,198.6798248,204.099035,208.7495053,212.1691189,212.7643968,214.4576138,215.9054823,219.5681841,222.4507601,222.4683071,223.0991462,224.9610192,225.4862319,226.9989318,228.5646491,229.0903237,229.6323807,231.6700477,234.021177,234.8510253,237.7721637,239.7328932,240.4027581,242.8248811,243.0816632,245.979961,246.4947988,247.1394014,248.0514829,249.3019048,250.7513879,253.9861099,255.1551652,261.0908818,262.4011715,263.0206872,263.105633,267.7373384,270.1894,270.6378511,272.2501078,272.6321364,273.9603772,274.7071,276.4013399,276.9190626,278.955153,281.5789422,288.0207452,288.9822393,289.1757587,290.7775735,294.9524151,298.2463398,299.099052,299.3466037,300.7305325,303.397391,303.6096465,304.7437748,307.6190894,309.3616681,312.1429635,321.0466894,322.1004964,322.6677652,323.0321827,326.3817124,327.6536439,329.3505396,333.5791129,333.9664321,334.643793,334.6459156,335.2090696,335.3014311,336.3726161,336.5934202,336.7606331,341.4281402,345.3131637,347.1547599,349.0483366,349.4239745,349.7452965,349.8615752,351.3598902,351.4266721,351.7730679,353.8046387,354.1039697,354.7973747,356.5821434],\"xaxis\":\"x\",\"y\":[3.145823953735741,3.4378127331840176,3.837198103439196,3.951451756193419,4.006206037142612,4.1740689887384725,4.527922446849187,4.68489626711942,4.7737516285705786,4.835249698930803,4.950119464173726,4.994635362314534,5.316849762819329,5.343975937779087,5.499165524121719,5.5208264662004325,5.694653496462838,5.763138509714782,6.0000824164104545,6.059747794920614,6.33474006996596,6.85839109427808,7.069380659540337,7.49710572335852,7.538672314158188,7.5514667071741854,7.883769779748158,8.04129810262944,8.390612769878429,8.753436206190054,8.95935174851262,9.40119156840458,9.43213613754578,9.476326572788413,9.516661050267137,9.652536603538733,9.66328098402246,9.933975880237831,10.106530599875686,10.157019945051475,10.160018077606052,10.17683493068904,10.191650067554194,10.258387924657475,10.327324552034588,10.347936500318532,10.60595484417447,10.76667468467436,10.916024842091941,10.95226244537296,10.95602495451873,11.245397156008668,11.420921976553986,11.643857969671528,11.840296142371027,12.054764031509666,12.404088227755675,12.540425471657871,12.794355034450279,12.796731583349809,12.918461518311412,13.038063291015966,13.231878447880941,13.509157461836926,13.59862774085682,13.647952920562355,13.652063699906602,13.708961606552558,13.80346194035454,14.043992571715412,14.118055288221202,14.179210479234998,14.21128888932422,14.24803839827832,14.270221421459253,14.521084124210082,14.665146643237108,14.709090892644772,14.86856109171901,14.936626005390774,14.998587767382823,15.059737395162673,15.196138371394625,15.328809414741569,15.38133888987383,15.683944222752558,15.79535075439118,15.802017350013408,15.837551664537978,15.841800466932934,16.228277359677914,16.36500816320425,16.41430476277482,16.50946487849311,16.915637597889358,17.017798132650054,17.05364317533838,17.09498065786419,17.341446319583078,17.426866035389555,17.691798940349887,17.878520082637927,17.911989673402427,18.806629505031236,19.25220036164001,19.273160021840155,19.38054499156065,19.415638733216444,19.946419264166863,20.401906134745015,20.736837657101038,20.795141710305145,20.960982595804342,21.102793004113728,21.461533620249465,21.74386539246693,21.745584020391085,21.807371089001617,21.98973086155708,22.041172430619657,22.1893327024044,22.342685724180942,22.39417253369705,22.44726390525252,22.646841690989664,22.877121309629867,22.95840018699881,23.244508924934767,23.436551124194754,23.502160545893705,23.73939358992053,23.76454392259753,24.048415554876424,24.09884096203951,24.161976086467792,24.251309233729742,24.373780880980853,24.51574943009188,24.832571881569592,24.94707413742311,25.528443505328276,25.656778859927527,25.71745686650829,25.72577682000004,26.179425776340196,26.41959113437911,26.4635143453598,26.621425634214106,26.6588431426079,26.78893670440663,26.862073916219675,27.02801498890207,27.078722955459835,27.278146322277205,27.535131412960343,28.166069038634664,28.260241866421207,28.27919598078297,28.436084545472383,28.844986315158657,29.167607331257408,29.251125596384657,29.27537186436734,29.410919746097704,29.67212322748318,29.692912435288243,29.803993791984816,30.085614351755225,30.256289932416202,30.528701851249316,31.400770692690276,31.503985039123872,31.5595457617649,31.595238364007493,31.923305570664326,32.0478839597629,32.214085152810085,32.62824963407283,32.66618532636676,32.73252893823607,32.73273683472162,32.787894536323016,32.796940815061085,32.90185723683895,32.9234837309421,32.93986127463726,33.39701680197829,33.777532552425626,33.95790632881693,34.143371296797206,34.180162872810826,34.21163451821149,34.22302334939656,34.369774702800605,34.376315606554414,34.4102430867328,34.60922378467424,34.63854153786084,34.70645657722648,34.88126442620228],\"yaxis\":\"y\",\"type\":\"scatter\"}],                        {\"template\":{\"data\":{\"histogram2dcontour\":[{\"type\":\"histogram2dcontour\",\"colorbar\":{\"outlinewidth\":0,\"ticks\":\"\"},\"colorscale\":[[0.0,\"#0d0887\"],[0.1111111111111111,\"#46039f\"],[0.2222222222222222,\"#7201a8\"],[0.3333333333333333,\"#9c179e\"],[0.4444444444444444,\"#bd3786\"],[0.5555555555555556,\"#d8576b\"],[0.6666666666666666,\"#ed7953\"],[0.7777777777777778,\"#fb9f3a\"],[0.8888888888888888,\"#fdca26\"],[1.0,\"#f0f921\"]]}],\"choropleth\":[{\"type\":\"choropleth\",\"colorbar\":{\"outlinewidth\":0,\"ticks\":\"\"}}],\"histogram2d\":[{\"type\":\"histogram2d\",\"colorbar\":{\"outlinewidth\":0,\"ticks\":\"\"},\"colorscale\":[[0.0,\"#0d0887\"],[0.1111111111111111,\"#46039f\"],[0.2222222222222222,\"#7201a8\"],[0.3333333333333333,\"#9c179e\"],[0.4444444444444444,\"#bd3786\"],[0.5555555555555556,\"#d8576b\"],[0.6666666666666666,\"#ed7953\"],[0.7777777777777778,\"#fb9f3a\"],[0.8888888888888888,\"#fdca26\"],[1.0,\"#f0f921\"]]}],\"heatmap\":[{\"type\":\"heatmap\",\"colorbar\":{\"outlinewidth\":0,\"ticks\":\"\"},\"colorscale\":[[0.0,\"#0d0887\"],[0.1111111111111111,\"#46039f\"],[0.2222222222222222,\"#7201a8\"],[0.3333333333333333,\"#9c179e\"],[0.4444444444444444,\"#bd3786\"],[0.5555555555555556,\"#d8576b\"],[0.6666666666666666,\"#ed7953\"],[0.7777777777777778,\"#fb9f3a\"],[0.8888888888888888,\"#fdca26\"],[1.0,\"#f0f921\"]]}],\"heatmapgl\":[{\"type\":\"heatmapgl\",\"colorbar\":{\"outlinewidth\":0,\"ticks\":\"\"},\"colorscale\":[[0.0,\"#0d0887\"],[0.1111111111111111,\"#46039f\"],[0.2222222222222222,\"#7201a8\"],[0.3333333333333333,\"#9c179e\"],[0.4444444444444444,\"#bd3786\"],[0.5555555555555556,\"#d8576b\"],[0.6666666666666666,\"#ed7953\"],[0.7777777777777778,\"#fb9f3a\"],[0.8888888888888888,\"#fdca26\"],[1.0,\"#f0f921\"]]}],\"contourcarpet\":[{\"type\":\"contourcarpet\",\"colorbar\":{\"outlinewidth\":0,\"ticks\":\"\"}}],\"contour\":[{\"type\":\"contour\",\"colorbar\":{\"outlinewidth\":0,\"ticks\":\"\"},\"colorscale\":[[0.0,\"#0d0887\"],[0.1111111111111111,\"#46039f\"],[0.2222222222222222,\"#7201a8\"],[0.3333333333333333,\"#9c179e\"],[0.4444444444444444,\"#bd3786\"],[0.5555555555555556,\"#d8576b\"],[0.6666666666666666,\"#ed7953\"],[0.7777777777777778,\"#fb9f3a\"],[0.8888888888888888,\"#fdca26\"],[1.0,\"#f0f921\"]]}],\"surface\":[{\"type\":\"surface\",\"colorbar\":{\"outlinewidth\":0,\"ticks\":\"\"},\"colorscale\":[[0.0,\"#0d0887\"],[0.1111111111111111,\"#46039f\"],[0.2222222222222222,\"#7201a8\"],[0.3333333333333333,\"#9c179e\"],[0.4444444444444444,\"#bd3786\"],[0.5555555555555556,\"#d8576b\"],[0.6666666666666666,\"#ed7953\"],[0.7777777777777778,\"#fb9f3a\"],[0.8888888888888888,\"#fdca26\"],[1.0,\"#f0f921\"]]}],\"mesh3d\":[{\"type\":\"mesh3d\",\"colorbar\":{\"outlinewidth\":0,\"ticks\":\"\"}}],\"scatter\":[{\"fillpattern\":{\"fillmode\":\"overlay\",\"size\":10,\"solidity\":0.2},\"type\":\"scatter\"}],\"parcoords\":[{\"type\":\"parcoords\",\"line\":{\"colorbar\":{\"outlinewidth\":0,\"ticks\":\"\"}}}],\"scatterpolargl\":[{\"type\":\"scatterpolargl\",\"marker\":{\"colorbar\":{\"outlinewidth\":0,\"ticks\":\"\"}}}],\"bar\":[{\"error_x\":{\"color\":\"#2a3f5f\"},\"error_y\":{\"color\":\"#2a3f5f\"},\"marker\":{\"line\":{\"color\":\"#E5ECF6\",\"width\":0.5},\"pattern\":{\"fillmode\":\"overlay\",\"size\":10,\"solidity\":0.2}},\"type\":\"bar\"}],\"scattergeo\":[{\"type\":\"scattergeo\",\"marker\":{\"colorbar\":{\"outlinewidth\":0,\"ticks\":\"\"}}}],\"scatterpolar\":[{\"type\":\"scatterpolar\",\"marker\":{\"colorbar\":{\"outlinewidth\":0,\"ticks\":\"\"}}}],\"histogram\":[{\"marker\":{\"pattern\":{\"fillmode\":\"overlay\",\"size\":10,\"solidity\":0.2}},\"type\":\"histogram\"}],\"scattergl\":[{\"type\":\"scattergl\",\"marker\":{\"colorbar\":{\"outlinewidth\":0,\"ticks\":\"\"}}}],\"scatter3d\":[{\"type\":\"scatter3d\",\"line\":{\"colorbar\":{\"outlinewidth\":0,\"ticks\":\"\"}},\"marker\":{\"colorbar\":{\"outlinewidth\":0,\"ticks\":\"\"}}}],\"scattermapbox\":[{\"type\":\"scattermapbox\",\"marker\":{\"colorbar\":{\"outlinewidth\":0,\"ticks\":\"\"}}}],\"scatterternary\":[{\"type\":\"scatterternary\",\"marker\":{\"colorbar\":{\"outlinewidth\":0,\"ticks\":\"\"}}}],\"scattercarpet\":[{\"type\":\"scattercarpet\",\"marker\":{\"colorbar\":{\"outlinewidth\":0,\"ticks\":\"\"}}}],\"carpet\":[{\"aaxis\":{\"endlinecolor\":\"#2a3f5f\",\"gridcolor\":\"white\",\"linecolor\":\"white\",\"minorgridcolor\":\"white\",\"startlinecolor\":\"#2a3f5f\"},\"baxis\":{\"endlinecolor\":\"#2a3f5f\",\"gridcolor\":\"white\",\"linecolor\":\"white\",\"minorgridcolor\":\"white\",\"startlinecolor\":\"#2a3f5f\"},\"type\":\"carpet\"}],\"table\":[{\"cells\":{\"fill\":{\"color\":\"#EBF0F8\"},\"line\":{\"color\":\"white\"}},\"header\":{\"fill\":{\"color\":\"#C8D4E3\"},\"line\":{\"color\":\"white\"}},\"type\":\"table\"}],\"barpolar\":[{\"marker\":{\"line\":{\"color\":\"#E5ECF6\",\"width\":0.5},\"pattern\":{\"fillmode\":\"overlay\",\"size\":10,\"solidity\":0.2}},\"type\":\"barpolar\"}],\"pie\":[{\"automargin\":true,\"type\":\"pie\"}]},\"layout\":{\"autotypenumbers\":\"strict\",\"colorway\":[\"#636efa\",\"#EF553B\",\"#00cc96\",\"#ab63fa\",\"#FFA15A\",\"#19d3f3\",\"#FF6692\",\"#B6E880\",\"#FF97FF\",\"#FECB52\"],\"font\":{\"color\":\"#2a3f5f\"},\"hovermode\":\"closest\",\"hoverlabel\":{\"align\":\"left\"},\"paper_bgcolor\":\"white\",\"plot_bgcolor\":\"#E5ECF6\",\"polar\":{\"bgcolor\":\"#E5ECF6\",\"angularaxis\":{\"gridcolor\":\"white\",\"linecolor\":\"white\",\"ticks\":\"\"},\"radialaxis\":{\"gridcolor\":\"white\",\"linecolor\":\"white\",\"ticks\":\"\"}},\"ternary\":{\"bgcolor\":\"#E5ECF6\",\"aaxis\":{\"gridcolor\":\"white\",\"linecolor\":\"white\",\"ticks\":\"\"},\"baxis\":{\"gridcolor\":\"white\",\"linecolor\":\"white\",\"ticks\":\"\"},\"caxis\":{\"gridcolor\":\"white\",\"linecolor\":\"white\",\"ticks\":\"\"}},\"coloraxis\":{\"colorbar\":{\"outlinewidth\":0,\"ticks\":\"\"}},\"colorscale\":{\"sequential\":[[0.0,\"#0d0887\"],[0.1111111111111111,\"#46039f\"],[0.2222222222222222,\"#7201a8\"],[0.3333333333333333,\"#9c179e\"],[0.4444444444444444,\"#bd3786\"],[0.5555555555555556,\"#d8576b\"],[0.6666666666666666,\"#ed7953\"],[0.7777777777777778,\"#fb9f3a\"],[0.8888888888888888,\"#fdca26\"],[1.0,\"#f0f921\"]],\"sequentialminus\":[[0.0,\"#0d0887\"],[0.1111111111111111,\"#46039f\"],[0.2222222222222222,\"#7201a8\"],[0.3333333333333333,\"#9c179e\"],[0.4444444444444444,\"#bd3786\"],[0.5555555555555556,\"#d8576b\"],[0.6666666666666666,\"#ed7953\"],[0.7777777777777778,\"#fb9f3a\"],[0.8888888888888888,\"#fdca26\"],[1.0,\"#f0f921\"]],\"diverging\":[[0,\"#8e0152\"],[0.1,\"#c51b7d\"],[0.2,\"#de77ae\"],[0.3,\"#f1b6da\"],[0.4,\"#fde0ef\"],[0.5,\"#f7f7f7\"],[0.6,\"#e6f5d0\"],[0.7,\"#b8e186\"],[0.8,\"#7fbc41\"],[0.9,\"#4d9221\"],[1,\"#276419\"]]},\"xaxis\":{\"gridcolor\":\"white\",\"linecolor\":\"white\",\"ticks\":\"\",\"title\":{\"standoff\":15},\"zerolinecolor\":\"white\",\"automargin\":true,\"zerolinewidth\":2},\"yaxis\":{\"gridcolor\":\"white\",\"linecolor\":\"white\",\"ticks\":\"\",\"title\":{\"standoff\":15},\"zerolinecolor\":\"white\",\"automargin\":true,\"zerolinewidth\":2},\"scene\":{\"xaxis\":{\"backgroundcolor\":\"#E5ECF6\",\"gridcolor\":\"white\",\"linecolor\":\"white\",\"showbackground\":true,\"ticks\":\"\",\"zerolinecolor\":\"white\",\"gridwidth\":2},\"yaxis\":{\"backgroundcolor\":\"#E5ECF6\",\"gridcolor\":\"white\",\"linecolor\":\"white\",\"showbackground\":true,\"ticks\":\"\",\"zerolinecolor\":\"white\",\"gridwidth\":2},\"zaxis\":{\"backgroundcolor\":\"#E5ECF6\",\"gridcolor\":\"white\",\"linecolor\":\"white\",\"showbackground\":true,\"ticks\":\"\",\"zerolinecolor\":\"white\",\"gridwidth\":2}},\"shapedefaults\":{\"line\":{\"color\":\"#2a3f5f\"}},\"annotationdefaults\":{\"arrowcolor\":\"#2a3f5f\",\"arrowhead\":0,\"arrowwidth\":1},\"geo\":{\"bgcolor\":\"white\",\"landcolor\":\"#E5ECF6\",\"subunitcolor\":\"white\",\"showland\":true,\"showlakes\":true,\"lakecolor\":\"white\"},\"title\":{\"x\":0.05},\"mapbox\":{\"style\":\"light\"}}},\"xaxis\":{\"anchor\":\"y\",\"domain\":[0.0,1.0],\"title\":{\"text\":\"Sales\"}},\"yaxis\":{\"anchor\":\"x\",\"domain\":[0.0,1.0],\"title\":{\"text\":\"Radio\"}},\"legend\":{\"tracegroupgap\":0},\"margin\":{\"t\":60}},                        {\"responsive\": true}                    ).then(function(){\n",
              "                            \n",
              "var gd = document.getElementById('6b7ebada-8633-49ff-b27b-a7b28bbceda4');\n",
              "var x = new MutationObserver(function (mutations, observer) {{\n",
              "        var display = window.getComputedStyle(gd).display;\n",
              "        if (!display || display === 'none') {{\n",
              "            console.log([gd, 'removed!']);\n",
              "            Plotly.purge(gd);\n",
              "            observer.disconnect();\n",
              "        }}\n",
              "}});\n",
              "\n",
              "// Listen for the removal of the full notebook cells\n",
              "var notebookContainer = gd.closest('#notebook-container');\n",
              "if (notebookContainer) {{\n",
              "    x.observe(notebookContainer, {childList: true});\n",
              "}}\n",
              "\n",
              "// Listen for the clearing of the current output cell\n",
              "var outputEl = gd.closest('.output');\n",
              "if (outputEl) {{\n",
              "    x.observe(outputEl, {childList: true});\n",
              "}}\n",
              "\n",
              "                        })                };                            </script>        </div>\n",
              "</body>\n",
              "</html>"
            ]
          },
          "metadata": {}
        }
      ]
    },
    {
      "cell_type": "code",
      "source": [
        "figure = px.scatter(data_frame=df, x=\"Sales\", y=\"Social Media\", trendline=\"ols\")\n",
        "figure.show()"
      ],
      "metadata": {
        "colab": {
          "base_uri": "https://localhost:8080/",
          "height": 542
        },
        "id": "A1E0qkQnse2E",
        "outputId": "69a8f8b3-0f8e-4d33-ee88-cedc9c8f74ff"
      },
      "execution_count": 25,
      "outputs": [
        {
          "output_type": "display_data",
          "data": {
            "text/html": [
              "<html>\n",
              "<head><meta charset=\"utf-8\" /></head>\n",
              "<body>\n",
              "    <div>            <script src=\"https://cdnjs.cloudflare.com/ajax/libs/mathjax/2.7.5/MathJax.js?config=TeX-AMS-MML_SVG\"></script><script type=\"text/javascript\">if (window.MathJax && window.MathJax.Hub && window.MathJax.Hub.Config) {window.MathJax.Hub.Config({SVG: {font: \"STIX-Web\"}});}</script>                <script type=\"text/javascript\">window.PlotlyConfig = {MathJaxConfig: 'local'};</script>\n",
              "        <script src=\"https://cdn.plot.ly/plotly-2.18.2.min.js\"></script>                <div id=\"d1432215-d2e9-4c5d-83ce-19c8dfe1c8ef\" class=\"plotly-graph-div\" style=\"height:525px; width:100%;\"></div>            <script type=\"text/javascript\">                                    window.PLOTLYENV=window.PLOTLYENV || {};                                    if (document.getElementById(\"d1432215-d2e9-4c5d-83ce-19c8dfe1c8ef\")) {                    Plotly.newPlot(                        \"d1432215-d2e9-4c5d-83ce-19c8dfe1c8ef\",                        [{\"hovertemplate\":\"Sales=%{x}<br>Social Media=%{y}<extra></extra>\",\"legendgroup\":\"\",\"marker\":{\"color\":\"#636efa\",\"symbol\":\"circle\"},\"mode\":\"markers\",\"name\":\"\",\"orientation\":\"v\",\"showlegend\":false,\"x\":[54.73275715,46.67789698,150.1778288,298.2463398,56.5941808,105.8891476,198.6798248,108.7339319,270.1894,48.28058223,224.9610192,145.5439916,229.6323807,121.3364193,123.5261126,212.7643968,89.8199226,353.8046387,329.3505396,162.1913335,276.4013399,128.4846619,349.8615752,272.2501078,192.4619083,96.74937343,76.99292807,139.2887894,234.8510253,323.0321827,40.79219533,290.7775735,150.6264947,161.7851523,155.5991953,263.0206872,281.5789422,231.6700477,148.7069665,294.9524151,242.8248811,351.7730679,91.92229739,32.56682505,115.2625668,101.8731014,111.8997121,104.3526653,326.3817124,300.7305325,255.1551652,161.7170871,39.62567824,169.0081129,50.98848158,70.47172273,58.59009126,237.7721637,322.1004964,181.0796122,145.9192,228.5646491,288.9822393,49.81567405,299.099052,351.3598902,55.00971238,223.0991462,247.1394014,274.7071,289.1757587,168.0365387,198.3215216,349.7452965,166.1372196,59.28931563,272.6321364,77.41731834,349.4239745,127.0926738,43.06509252,336.5934202,345.3131637,154.2065565,304.7437748,335.2090696,104.1809671,112.269694,103.6348659,262.4011715,51.44298395,336.7606331,72.62590273,174.1981389,98.99963768,140.4152859,309.3616681,133.5654887,152.2546677,112.3081088,333.5791129,307.6190894,225.4862319,333.9664321,334.6459156,222.4683071,105.1853123,62.31766345,86.11553566,197.225133,143.8359148,263.105633,182.9860143,267.7373384,250.7513879,356.5821434,145.2164746,303.397391,132.3443679,104.5039262,174.5641128,96.43343282,104.1503565,354.7973747,80.94072509,131.1015188,135.5443199,49.18778559,141.3801238,119.3308074,321.0466894,240.4027581,226.9989318,341.4281402,335.3014311,273.9603772,249.3019048,117.0546557,208.7495053,106.0995933,243.0816632,156.9537519,61.70848657,299.3466037,222.4507601,82.54907175,144.5920869,234.021177,183.3277351,354.1039697,160.5796388,35.54799802,77.54794767,110.3748636,351.4266721,131.0772545,146.1456862,153.5822256,174.9861639,278.955153,178.3746767,197.0111372,261.0908818,204.099035,288.0207452,97.61236339,336.3726161,245.979961,334.643793,246.4947988,312.1429635,219.5681841,138.3753078,349.0483366,229.0903237,276.9190626,322.6677652,157.490072,56.81533661,139.792394,212.1691189,177.5025509,253.9861099,215.9054823,327.6536439,214.4576138,97.20055286,99.10933661,347.1547599,41.35123045,173.1550912,139.8343646,65.125304,152.9496029,270.6378511,303.6096465,248.0514829,239.7328932,162.1479537,167.5332259],\"xaxis\":\"x\",\"y\":[2.907982773,2.409567204,2.913410175,6.922303959,1.40599815,1.02716349,4.273602146,2.289854925,7.130115956,2.229423022,5.151483172,3.194924641,3.921147972,2.372705624,0.060401795,0.940801841,1.853224897,3.67429598,4.636563904,3.88458384,2.832450089,4.556701242,6.88653481,1.227180495,4.060781965,2.179478014,3.055758381,1.971184795,5.573093351,6.431995293,3.558311365,5.263650376,2.814013458,1.905040273,4.079293023,6.199769157,2.188926056,3.41966808,2.593697318,5.611221835,3.223647705,8.529604366,0.679275349,1.591116473,2.676075167,0.041494349,2.566791358,0.463277331,7.236170474,8.697487404,3.373809656,2.087910259,2.400118071,1.729667405,0.413965989,2.442173814,3.356106421,6.096743741,6.109369688,2.638642418,2.527850591,0.358471532,3.952448108,4.529927084,8.080731556,6.546158024,1.07771826,6.741382758,4.587703384,5.514187222,3.212250256,4.117631989,3.239265214,6.063457718,0.827545346,2.414186295,2.642504816,2.136632357,3.590086383,3.81883449,1.30572513,9.322957802,3.698661076,4.034660177,6.398283645,5.78929841,1.915517115,2.359200238,4.208324504,3.215455403,4.18783431,7.673636553,0.328469804,3.797367287,0.55883658,2.766352269,3.327272719,4.377587812,0.337998227,3.279480595,2.261406312,6.765663894,3.290816886,2.924281836,4.61092529,2.64241023,4.337634178,2.317959067,0.00317676,2.367556821,3.306706147,2.060719698,1.9982184,4.540904518,1.049369556,8.091610987,1.501445964,2.16250238,1.605213404,3.9865702,5.087016957,1.415638249,1.652759623,5.273156173,5.286680958,4.889993447,0.903060425,0.28603859,1.320080106,0.887761603,1.495600762,1.520803886,3.529274197,8.980234377,9.997472195,7.776978403,5.708104984,0.792203039,1.50308216,0.932529328,1.506105779,3.298362157,0.608817354,4.479871088,6.157704568,1.558209074,0.181466489,4.895171905,4.152022007,7.359714283,2.229813818,0.527880863,1.444591132,0.672964457,5.657550436,0.874163256,0.795725948,6.543306951,5.036281432,3.357794085,4.346777364,5.066577857,0.968984226,4.007447145,5.914866129,1.130122514,3.436481014,5.671686076,7.596290451,3.766603039,1.524062069,3.056298128,2.956726836,7.72405273,6.259153285,1.915047092,3.290079821,5.15906663,1.463118167,5.838251913,3.147751404,0.463311511,3.116428483,3.385121455,1.229454172,5.895165277,1.867646115,3.246667727,4.365166691,3.206508472,2.502653025,0.028073247,1.637157501,0.191093711,6.494517858,6.312902998,5.704360367,5.463176008,0.573235814,3.918941935],\"yaxis\":\"y\",\"type\":\"scatter\"},{\"hovertemplate\":\"<b>OLS trendline</b><br>Social Media = 0.0136846 * Sales + 0.790821<br>R<sup>2</sup>=0.348329<br><br>Sales=%{x}<br>Social Media=%{y} <b>(trend)</b><extra></extra>\",\"legendgroup\":\"\",\"marker\":{\"color\":\"#636efa\",\"symbol\":\"circle\"},\"mode\":\"lines\",\"name\":\"\",\"showlegend\":false,\"x\":[32.56682505,35.54799802,39.62567824,40.79219533,41.35123045,43.06509252,46.67789698,48.28058223,49.18778559,49.81567405,50.98848158,51.44298395,54.73275715,55.00971238,56.5941808,56.81533661,58.59009126,59.28931563,61.70848657,62.31766345,65.125304,70.47172273,72.62590273,76.99292807,77.41731834,77.54794767,80.94072509,82.54907175,86.11553566,89.8199226,91.92229739,96.43343282,96.74937343,97.20055286,97.61236339,98.99963768,99.10933661,101.8731014,103.6348659,104.1503565,104.1809671,104.3526653,104.5039262,105.1853123,105.8891476,106.0995933,108.7339319,110.3748636,111.8997121,112.269694,112.3081088,115.2625668,117.0546557,119.3308074,121.3364193,123.5261126,127.0926738,128.4846619,131.0772545,131.1015188,132.3443679,133.5654887,135.5443199,138.3753078,139.2887894,139.792394,139.8343646,140.4152859,141.3801238,143.8359148,144.5920869,145.2164746,145.5439916,145.9192,146.1456862,148.7069665,150.1778288,150.6264947,152.2546677,152.9496029,153.5822256,154.2065565,155.5991953,156.9537519,157.490072,160.5796388,161.7170871,161.7851523,162.1479537,162.1913335,166.1372196,167.5332259,168.0365387,169.0081129,173.1550912,174.1981389,174.5641128,174.9861639,177.5025509,178.3746767,181.0796122,182.9860143,183.3277351,192.4619083,197.0111372,197.225133,198.3215216,198.6798248,204.099035,208.7495053,212.1691189,212.7643968,214.4576138,215.9054823,219.5681841,222.4507601,222.4683071,223.0991462,224.9610192,225.4862319,226.9989318,228.5646491,229.0903237,229.6323807,231.6700477,234.021177,234.8510253,237.7721637,239.7328932,240.4027581,242.8248811,243.0816632,245.979961,246.4947988,247.1394014,248.0514829,249.3019048,250.7513879,253.9861099,255.1551652,261.0908818,262.4011715,263.0206872,263.105633,267.7373384,270.1894,270.6378511,272.2501078,272.6321364,273.9603772,274.7071,276.4013399,276.9190626,278.955153,281.5789422,288.0207452,288.9822393,289.1757587,290.7775735,294.9524151,298.2463398,299.099052,299.3466037,300.7305325,303.397391,303.6096465,304.7437748,307.6190894,309.3616681,312.1429635,321.0466894,322.1004964,322.6677652,323.0321827,326.3817124,327.6536439,329.3505396,333.5791129,333.9664321,334.643793,334.6459156,335.2090696,335.3014311,336.3726161,336.5934202,336.7606331,341.4281402,345.3131637,347.1547599,349.0483366,349.4239745,349.7452965,349.8615752,351.3598902,351.4266721,351.7730679,353.8046387,354.1039697,354.7973747,356.5821434],\"xaxis\":\"x\",\"y\":[1.2364849754410534,1.2772811182411599,1.3330825179661443,1.3490458311523645,1.356696000000432,1.3801495072108527,1.4295892707342088,1.4515213682611177,1.4639360782412956,1.4725284771173324,1.4885778724232748,1.4947975529906543,1.5398167647565395,1.5436067847339165,1.5652895923318195,1.5683160198811854,1.5926028173482083,1.6021714192156251,1.6352767922078226,1.6436131307017958,1.6820345527265532,1.7551981243049724,1.784677203775203,1.8444381740963323,1.8502457827899987,1.8520333921820704,1.898462174915632,1.9204717465418748,1.9692773584362382,2.0199703910485285,2.0487405372343717,2.1104735956797858,2.114797114768285,2.120971322249695,2.126606782304355,2.1455910682237853,2.1470922535821435,2.1849132536292313,2.2090222861628774,2.2160765659183097,2.21649545956231,2.2188450797809987,2.220915023839452,2.2302395162179023,2.239871216791974,2.2427510808304794,2.2788009359683494,2.3012564206490724,2.3221233538262265,2.3271864060468612,2.327712097002136,2.3681426562745544,2.392666665921296,2.423814878628962,2.451260863916422,2.481225928491402,2.5300328717599503,2.5490816642571024,2.5845602423189784,2.5848922894218154,2.601900175201279,2.6186107180091924,2.645690220280577,2.6844311413193767,2.696931766467226,2.70382339113414,2.704397741770026,2.7123474141134,2.7255508293943844,2.7591573330529817,2.7695052415049544,2.7780497339004526,2.782531671190211,2.787666245943248,2.7907656177175246,2.825815699655541,2.8459438535848625,2.8520836644278202,2.8743645514745313,2.883874457790373,2.8925316428203947,2.9010753579309334,2.920133054993633,2.9386696125971414,2.946008935610716,2.988288404005087,3.0038539225917313,3.004785367243505,3.009750157234365,3.010343792200618,3.064341642854871,3.083445422789065,3.0903330542913463,3.1036286531052917,3.1603783689447393,3.174652053613403,3.179660257979858,3.1854358560809444,3.2198715914191496,3.2318062792197226,3.268822224296897,3.2949105637151974,3.2995868742462724,3.42458432926751,3.4868386813974945,3.489767127114424,3.504770760362182,3.5096739943107087,3.583833687628669,3.647473487249707,3.694269512220638,3.702415648811346,3.725586636613362,3.745400129716976,3.7955227180976854,3.8349696013585914,3.8352097249357597,3.843842502123288,3.8693214788710417,3.8765088016212643,3.8972094861354227,3.918635692262401,3.925829335926757,3.9332471660896933,3.9611318124177,3.9933060631671675,4.004662200529847,4.044636794592154,4.071468582441882,4.080635411871835,4.113781182607648,4.11729514148408,4.156957171200537,4.164002517652772,4.172823642754722,4.185305108102012,4.202416624577617,4.222252212827279,4.266518071252342,4.2825161188128025,4.363743992697142,4.381674775730744,4.3901525967825386,4.391315045597802,4.454698055174205,4.488253523506609,4.4943903948987,4.516453473836259,4.521681380259724,4.539857816815074,4.550076415429597,4.57326140120318,4.580346226341675,4.6082092975382185,4.6441147884163865,4.732268249393915,4.74542590612829,4.748074140617344,4.769994326389096,4.827125340186469,4.872201363545823,4.883870384105403,4.887258028702091,4.9061965329479476,4.942691409725821,4.945596040143193,4.961116125876575,5.000463639824023,5.02431012246727,5.062371021801025,5.184214899001282,5.198635820326002,5.206398663744928,5.211385569408727,5.257222524637259,5.274628391263627,5.297849720582899,5.355716030898841,5.361016337037208,5.370285746186456,5.370314793106436,5.378021327156506,5.379285256818135,5.393943989023578,5.396965603564262,5.399253844271885,5.46312678559005,5.5162917562518405,5.541493253216752,5.5674060822385965,5.57254653452491,5.5769436957526315,5.578534922594398,5.599038755587201,5.599952638799038,5.604692924808727,5.63249414711262,5.636590370425854,5.646079336575412,5.6705031722545485],\"yaxis\":\"y\",\"type\":\"scatter\"}],                        {\"template\":{\"data\":{\"histogram2dcontour\":[{\"type\":\"histogram2dcontour\",\"colorbar\":{\"outlinewidth\":0,\"ticks\":\"\"},\"colorscale\":[[0.0,\"#0d0887\"],[0.1111111111111111,\"#46039f\"],[0.2222222222222222,\"#7201a8\"],[0.3333333333333333,\"#9c179e\"],[0.4444444444444444,\"#bd3786\"],[0.5555555555555556,\"#d8576b\"],[0.6666666666666666,\"#ed7953\"],[0.7777777777777778,\"#fb9f3a\"],[0.8888888888888888,\"#fdca26\"],[1.0,\"#f0f921\"]]}],\"choropleth\":[{\"type\":\"choropleth\",\"colorbar\":{\"outlinewidth\":0,\"ticks\":\"\"}}],\"histogram2d\":[{\"type\":\"histogram2d\",\"colorbar\":{\"outlinewidth\":0,\"ticks\":\"\"},\"colorscale\":[[0.0,\"#0d0887\"],[0.1111111111111111,\"#46039f\"],[0.2222222222222222,\"#7201a8\"],[0.3333333333333333,\"#9c179e\"],[0.4444444444444444,\"#bd3786\"],[0.5555555555555556,\"#d8576b\"],[0.6666666666666666,\"#ed7953\"],[0.7777777777777778,\"#fb9f3a\"],[0.8888888888888888,\"#fdca26\"],[1.0,\"#f0f921\"]]}],\"heatmap\":[{\"type\":\"heatmap\",\"colorbar\":{\"outlinewidth\":0,\"ticks\":\"\"},\"colorscale\":[[0.0,\"#0d0887\"],[0.1111111111111111,\"#46039f\"],[0.2222222222222222,\"#7201a8\"],[0.3333333333333333,\"#9c179e\"],[0.4444444444444444,\"#bd3786\"],[0.5555555555555556,\"#d8576b\"],[0.6666666666666666,\"#ed7953\"],[0.7777777777777778,\"#fb9f3a\"],[0.8888888888888888,\"#fdca26\"],[1.0,\"#f0f921\"]]}],\"heatmapgl\":[{\"type\":\"heatmapgl\",\"colorbar\":{\"outlinewidth\":0,\"ticks\":\"\"},\"colorscale\":[[0.0,\"#0d0887\"],[0.1111111111111111,\"#46039f\"],[0.2222222222222222,\"#7201a8\"],[0.3333333333333333,\"#9c179e\"],[0.4444444444444444,\"#bd3786\"],[0.5555555555555556,\"#d8576b\"],[0.6666666666666666,\"#ed7953\"],[0.7777777777777778,\"#fb9f3a\"],[0.8888888888888888,\"#fdca26\"],[1.0,\"#f0f921\"]]}],\"contourcarpet\":[{\"type\":\"contourcarpet\",\"colorbar\":{\"outlinewidth\":0,\"ticks\":\"\"}}],\"contour\":[{\"type\":\"contour\",\"colorbar\":{\"outlinewidth\":0,\"ticks\":\"\"},\"colorscale\":[[0.0,\"#0d0887\"],[0.1111111111111111,\"#46039f\"],[0.2222222222222222,\"#7201a8\"],[0.3333333333333333,\"#9c179e\"],[0.4444444444444444,\"#bd3786\"],[0.5555555555555556,\"#d8576b\"],[0.6666666666666666,\"#ed7953\"],[0.7777777777777778,\"#fb9f3a\"],[0.8888888888888888,\"#fdca26\"],[1.0,\"#f0f921\"]]}],\"surface\":[{\"type\":\"surface\",\"colorbar\":{\"outlinewidth\":0,\"ticks\":\"\"},\"colorscale\":[[0.0,\"#0d0887\"],[0.1111111111111111,\"#46039f\"],[0.2222222222222222,\"#7201a8\"],[0.3333333333333333,\"#9c179e\"],[0.4444444444444444,\"#bd3786\"],[0.5555555555555556,\"#d8576b\"],[0.6666666666666666,\"#ed7953\"],[0.7777777777777778,\"#fb9f3a\"],[0.8888888888888888,\"#fdca26\"],[1.0,\"#f0f921\"]]}],\"mesh3d\":[{\"type\":\"mesh3d\",\"colorbar\":{\"outlinewidth\":0,\"ticks\":\"\"}}],\"scatter\":[{\"fillpattern\":{\"fillmode\":\"overlay\",\"size\":10,\"solidity\":0.2},\"type\":\"scatter\"}],\"parcoords\":[{\"type\":\"parcoords\",\"line\":{\"colorbar\":{\"outlinewidth\":0,\"ticks\":\"\"}}}],\"scatterpolargl\":[{\"type\":\"scatterpolargl\",\"marker\":{\"colorbar\":{\"outlinewidth\":0,\"ticks\":\"\"}}}],\"bar\":[{\"error_x\":{\"color\":\"#2a3f5f\"},\"error_y\":{\"color\":\"#2a3f5f\"},\"marker\":{\"line\":{\"color\":\"#E5ECF6\",\"width\":0.5},\"pattern\":{\"fillmode\":\"overlay\",\"size\":10,\"solidity\":0.2}},\"type\":\"bar\"}],\"scattergeo\":[{\"type\":\"scattergeo\",\"marker\":{\"colorbar\":{\"outlinewidth\":0,\"ticks\":\"\"}}}],\"scatterpolar\":[{\"type\":\"scatterpolar\",\"marker\":{\"colorbar\":{\"outlinewidth\":0,\"ticks\":\"\"}}}],\"histogram\":[{\"marker\":{\"pattern\":{\"fillmode\":\"overlay\",\"size\":10,\"solidity\":0.2}},\"type\":\"histogram\"}],\"scattergl\":[{\"type\":\"scattergl\",\"marker\":{\"colorbar\":{\"outlinewidth\":0,\"ticks\":\"\"}}}],\"scatter3d\":[{\"type\":\"scatter3d\",\"line\":{\"colorbar\":{\"outlinewidth\":0,\"ticks\":\"\"}},\"marker\":{\"colorbar\":{\"outlinewidth\":0,\"ticks\":\"\"}}}],\"scattermapbox\":[{\"type\":\"scattermapbox\",\"marker\":{\"colorbar\":{\"outlinewidth\":0,\"ticks\":\"\"}}}],\"scatterternary\":[{\"type\":\"scatterternary\",\"marker\":{\"colorbar\":{\"outlinewidth\":0,\"ticks\":\"\"}}}],\"scattercarpet\":[{\"type\":\"scattercarpet\",\"marker\":{\"colorbar\":{\"outlinewidth\":0,\"ticks\":\"\"}}}],\"carpet\":[{\"aaxis\":{\"endlinecolor\":\"#2a3f5f\",\"gridcolor\":\"white\",\"linecolor\":\"white\",\"minorgridcolor\":\"white\",\"startlinecolor\":\"#2a3f5f\"},\"baxis\":{\"endlinecolor\":\"#2a3f5f\",\"gridcolor\":\"white\",\"linecolor\":\"white\",\"minorgridcolor\":\"white\",\"startlinecolor\":\"#2a3f5f\"},\"type\":\"carpet\"}],\"table\":[{\"cells\":{\"fill\":{\"color\":\"#EBF0F8\"},\"line\":{\"color\":\"white\"}},\"header\":{\"fill\":{\"color\":\"#C8D4E3\"},\"line\":{\"color\":\"white\"}},\"type\":\"table\"}],\"barpolar\":[{\"marker\":{\"line\":{\"color\":\"#E5ECF6\",\"width\":0.5},\"pattern\":{\"fillmode\":\"overlay\",\"size\":10,\"solidity\":0.2}},\"type\":\"barpolar\"}],\"pie\":[{\"automargin\":true,\"type\":\"pie\"}]},\"layout\":{\"autotypenumbers\":\"strict\",\"colorway\":[\"#636efa\",\"#EF553B\",\"#00cc96\",\"#ab63fa\",\"#FFA15A\",\"#19d3f3\",\"#FF6692\",\"#B6E880\",\"#FF97FF\",\"#FECB52\"],\"font\":{\"color\":\"#2a3f5f\"},\"hovermode\":\"closest\",\"hoverlabel\":{\"align\":\"left\"},\"paper_bgcolor\":\"white\",\"plot_bgcolor\":\"#E5ECF6\",\"polar\":{\"bgcolor\":\"#E5ECF6\",\"angularaxis\":{\"gridcolor\":\"white\",\"linecolor\":\"white\",\"ticks\":\"\"},\"radialaxis\":{\"gridcolor\":\"white\",\"linecolor\":\"white\",\"ticks\":\"\"}},\"ternary\":{\"bgcolor\":\"#E5ECF6\",\"aaxis\":{\"gridcolor\":\"white\",\"linecolor\":\"white\",\"ticks\":\"\"},\"baxis\":{\"gridcolor\":\"white\",\"linecolor\":\"white\",\"ticks\":\"\"},\"caxis\":{\"gridcolor\":\"white\",\"linecolor\":\"white\",\"ticks\":\"\"}},\"coloraxis\":{\"colorbar\":{\"outlinewidth\":0,\"ticks\":\"\"}},\"colorscale\":{\"sequential\":[[0.0,\"#0d0887\"],[0.1111111111111111,\"#46039f\"],[0.2222222222222222,\"#7201a8\"],[0.3333333333333333,\"#9c179e\"],[0.4444444444444444,\"#bd3786\"],[0.5555555555555556,\"#d8576b\"],[0.6666666666666666,\"#ed7953\"],[0.7777777777777778,\"#fb9f3a\"],[0.8888888888888888,\"#fdca26\"],[1.0,\"#f0f921\"]],\"sequentialminus\":[[0.0,\"#0d0887\"],[0.1111111111111111,\"#46039f\"],[0.2222222222222222,\"#7201a8\"],[0.3333333333333333,\"#9c179e\"],[0.4444444444444444,\"#bd3786\"],[0.5555555555555556,\"#d8576b\"],[0.6666666666666666,\"#ed7953\"],[0.7777777777777778,\"#fb9f3a\"],[0.8888888888888888,\"#fdca26\"],[1.0,\"#f0f921\"]],\"diverging\":[[0,\"#8e0152\"],[0.1,\"#c51b7d\"],[0.2,\"#de77ae\"],[0.3,\"#f1b6da\"],[0.4,\"#fde0ef\"],[0.5,\"#f7f7f7\"],[0.6,\"#e6f5d0\"],[0.7,\"#b8e186\"],[0.8,\"#7fbc41\"],[0.9,\"#4d9221\"],[1,\"#276419\"]]},\"xaxis\":{\"gridcolor\":\"white\",\"linecolor\":\"white\",\"ticks\":\"\",\"title\":{\"standoff\":15},\"zerolinecolor\":\"white\",\"automargin\":true,\"zerolinewidth\":2},\"yaxis\":{\"gridcolor\":\"white\",\"linecolor\":\"white\",\"ticks\":\"\",\"title\":{\"standoff\":15},\"zerolinecolor\":\"white\",\"automargin\":true,\"zerolinewidth\":2},\"scene\":{\"xaxis\":{\"backgroundcolor\":\"#E5ECF6\",\"gridcolor\":\"white\",\"linecolor\":\"white\",\"showbackground\":true,\"ticks\":\"\",\"zerolinecolor\":\"white\",\"gridwidth\":2},\"yaxis\":{\"backgroundcolor\":\"#E5ECF6\",\"gridcolor\":\"white\",\"linecolor\":\"white\",\"showbackground\":true,\"ticks\":\"\",\"zerolinecolor\":\"white\",\"gridwidth\":2},\"zaxis\":{\"backgroundcolor\":\"#E5ECF6\",\"gridcolor\":\"white\",\"linecolor\":\"white\",\"showbackground\":true,\"ticks\":\"\",\"zerolinecolor\":\"white\",\"gridwidth\":2}},\"shapedefaults\":{\"line\":{\"color\":\"#2a3f5f\"}},\"annotationdefaults\":{\"arrowcolor\":\"#2a3f5f\",\"arrowhead\":0,\"arrowwidth\":1},\"geo\":{\"bgcolor\":\"white\",\"landcolor\":\"#E5ECF6\",\"subunitcolor\":\"white\",\"showland\":true,\"showlakes\":true,\"lakecolor\":\"white\"},\"title\":{\"x\":0.05},\"mapbox\":{\"style\":\"light\"}}},\"xaxis\":{\"anchor\":\"y\",\"domain\":[0.0,1.0],\"title\":{\"text\":\"Sales\"}},\"yaxis\":{\"anchor\":\"x\",\"domain\":[0.0,1.0],\"title\":{\"text\":\"Social Media\"}},\"legend\":{\"tracegroupgap\":0},\"margin\":{\"t\":60}},                        {\"responsive\": true}                    ).then(function(){\n",
              "                            \n",
              "var gd = document.getElementById('d1432215-d2e9-4c5d-83ce-19c8dfe1c8ef');\n",
              "var x = new MutationObserver(function (mutations, observer) {{\n",
              "        var display = window.getComputedStyle(gd).display;\n",
              "        if (!display || display === 'none') {{\n",
              "            console.log([gd, 'removed!']);\n",
              "            Plotly.purge(gd);\n",
              "            observer.disconnect();\n",
              "        }}\n",
              "}});\n",
              "\n",
              "// Listen for the removal of the full notebook cells\n",
              "var notebookContainer = gd.closest('#notebook-container');\n",
              "if (notebookContainer) {{\n",
              "    x.observe(notebookContainer, {childList: true});\n",
              "}}\n",
              "\n",
              "// Listen for the clearing of the current output cell\n",
              "var outputEl = gd.closest('.output');\n",
              "if (outputEl) {{\n",
              "    x.observe(outputEl, {childList: true});\n",
              "}}\n",
              "\n",
              "                        })                };                            </script>        </div>\n",
              "</body>\n",
              "</html>"
            ]
          },
          "metadata": {}
        }
      ]
    },
    {
      "cell_type": "markdown",
      "source": [
        "- pada hasil visualisasi diatas, dapat kita lihat hubungan titik-titik dengan garis regresi. Dimana semakin titik-titik tersebut menempel ke garis maka semakin baik."
      ],
      "metadata": {
        "id": "CjzCfx4yJEtX"
      }
    },
    {
      "cell_type": "markdown",
      "source": [
        "**5. Evaluation**"
      ],
      "metadata": {
        "id": "_C4W4t93_d_K"
      }
    },
    {
      "cell_type": "code",
      "source": [
        "# Lakukan prediksi\n",
        "# Features = TV, Radio, Social Media\n",
        "# Misal budget iklan TV=230, iklan Radio=37, iklan Social Media=69\n",
        "# Berapa prediksi jumlah penjualan (Sales)?\n",
        "features = np.array([[230, 37, 69]])\n",
        "print(\"Sales =\", lin_reg.predict(features))"
      ],
      "metadata": {
        "colab": {
          "base_uri": "https://localhost:8080/"
        },
        "id": "n3xR1SgZop-y",
        "outputId": "50623c48-c30f-4549-97dc-22422fbdd470"
      },
      "execution_count": 26,
      "outputs": [
        {
          "output_type": "stream",
          "name": "stdout",
          "text": [
            "Sales = [819.58737765]\n"
          ]
        }
      ]
    },
    {
      "cell_type": "code",
      "source": [
        "# Misal budget iklan TV=23, iklan Radio=37, iklan Social Media=69\n",
        "# Berapa prediksi jumlah penjualan (Sales)?\n",
        "features = np.array([[23, 37, 69]])\n",
        "print(\"Sales =\", lin_reg.predict(features))"
      ],
      "metadata": {
        "colab": {
          "base_uri": "https://localhost:8080/"
        },
        "id": "l15V4UmY7NIX",
        "outputId": "b86aa8cc-35e9-4361-d036-1973287ade7a"
      },
      "execution_count": 27,
      "outputs": [
        {
          "output_type": "stream",
          "name": "stdout",
          "text": [
            "Sales = [80.52345025]\n"
          ]
        }
      ]
    },
    {
      "cell_type": "markdown",
      "source": [
        "- dari hasil prediksi diatas dapat disimpulkan bahwa iklan yang paling berpengaruh terhadap penjualan adalah iklan TV.\n",
        "- dibuktikan dengan saat budget iklan TV lebih besar dari budget iklan Radio dan Social media, terjadi keuntungan pada penjualan.\n",
        "- namun saat budget budget iklan TV lebih kecil dari budget iklan Radio dan Social media, maka terjadi kerugian pada penjualan."
      ],
      "metadata": {
        "id": "LaHTWJbk7U7D"
      }
    }
  ]
}